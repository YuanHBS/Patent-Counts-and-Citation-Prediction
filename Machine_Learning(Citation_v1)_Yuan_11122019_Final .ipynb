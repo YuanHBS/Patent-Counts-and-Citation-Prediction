{
 "cells": [
  {
   "cell_type": "code",
   "execution_count": 1,
   "metadata": {},
   "outputs": [],
   "source": [
    "# Import libraries needed in this research\n",
    "import pandas as pd\n",
    "import numpy as np\n",
    "from sklearn.svm import LinearSVR\n",
    "from sklearn.svm import SVR\n",
    "from sklearn.linear_model import LinearRegression\n",
    "\n",
    "import matplotlib\n",
    "import matplotlib.pyplot as plt\n",
    "%matplotlib inline  \n",
    "\n",
    "from sklearn.model_selection import GridSearchCV\n",
    "import matplotlib.pyplot as plt\n",
    "from pylab import figure, axes, pie, title, savefig\n",
    "\n",
    "from scipy.linalg import lstsq\n",
    "import timeit"
   ]
  },
  {
   "cell_type": "code",
   "execution_count": 2,
   "metadata": {},
   "outputs": [],
   "source": [
    "# I will need to define a function to get number of patents applied for in year n and \n",
    "# awarded by the end of year n+10\n",
    "\n",
    "def get_citation_ratio(year1, year2, Frame, withRangeX, withRangeY):\n",
    "\n",
    "#     countAbove = 0\n",
    "    \n",
    "#     countBelow = 0\n",
    "    \n",
    "#     #print Frame.head(10)  \n",
    "#     print Frame.shape\n",
    "    \n",
    "#     temporaryNumber = 100000\n",
    "    \n",
    "#     for index, row in Frame.head(temporaryNumber).iterrows():\n",
    "        \n",
    "#         if row['issue_year_x'] >= year1 and row['issue_year_x'] <= year2 and row ['issue_year_y'] <= (row['issue_year_x']+withRangeX):\n",
    "        \n",
    "#             countAbove = countAbove+1\n",
    "                       \n",
    "      \n",
    "#         if row['issue_year_x'] >= year1 and row['issue_year_x'] <= year2 and row ['issue_year_y'] <= (row['issue_year_x']+withRangeY):\n",
    "        \n",
    "#             countBelow = countBelow+1\n",
    "            \n",
    "# #         if row['issue_year_x'] >= year1 and row['issue_year_x'] <= year2 and \\\n",
    "# #         row ['issue_year_y'] <= (row['issue_year_x']+withRangeX) and \\\n",
    "# #         row ['issue_year_y'] > (row['issue_year_x']+withRangeY):\n",
    "        \n",
    "            \n",
    "            \n",
    "# #             print row\n",
    "            \n",
    "#     print countAbove\n",
    "#     print countBelow\n",
    "    \n",
    "#     ratio = float(countAbove)/float(countBelow)\n",
    "    \n",
    "    \n",
    "#     Frame = Frame.head(temporaryNumber)\n",
    "    \n",
    "    \n",
    "#     selectedFrameAbove = Frame.loc[(Frame['issue_year_x'] >= year1) &(Frame['issue_year_x'] <= year2) & (Frame['issue_year_y']<=(Frame['issue_year_x']+withRangeX))]\n",
    "#     print \"selectedFrameAbove\"\n",
    "#     print selectedFrameAbove.shape[0]\n",
    "    \n",
    "    \n",
    "#     selectedFrameBelow = Frame.loc[(Frame['issue_year_x'] >= year1) &(Frame['issue_year_x'] <= year2) & (Frame['issue_year_y']<=(Frame['issue_year_x']+withRangeY))]\n",
    "#     print \"selectedFrameBelow\"\n",
    "#     print selectedFrameBelow.shape[0]\n",
    "\n",
    "    selectedFrameAbove = Frame.loc[(Frame['filed_year_x'] >= year1) &(Frame['filed_year_x'] <= year2) & (Frame['filed_year_y']<=(Frame['filed_year_x']+withRangeX))]\n",
    "    print \"selectedFrameAbove\"\n",
    "    print selectedFrameAbove.shape[0]\n",
    "    \n",
    "    \n",
    "    selectedFrameBelow = Frame.loc[(Frame['filed_year_x'] >= year1) &(Frame['filed_year_x'] <= year2) & (Frame['filed_year_y']<=(Frame['filed_year_x']+withRangeY))]\n",
    "    print \"selectedFrameBelow\"\n",
    "    print selectedFrameBelow.shape[0]\n",
    "\n",
    "\n",
    "    \n",
    "    ratio = float(selectedFrameAbove.shape[0])/float(selectedFrameBelow.shape[0])\n",
    "    \n",
    "    return ratio\n",
    "\n"
   ]
  },
  {
   "cell_type": "code",
   "execution_count": 3,
   "metadata": {},
   "outputs": [],
   "source": [
    "np.random.seed(0)"
   ]
  },
  {
   "cell_type": "code",
   "execution_count": 4,
   "metadata": {},
   "outputs": [],
   "source": [
    "# def Cite_Over_Gap(cite, PatDate, gaps):\n",
    "#     temp = pd.merge(cite, PatDate, how=\"left\", on=\"wku\")\n",
    "#     temp = pd.merge(temp, PatDate, how=\"left\", left_on=\"citing\", right_on=\"wku\")\n",
    "#     outputs = temp[(temp.filed_year_y-temp.filed_year_x<=gaps)& \\\n",
    "#                    (temp.filed_year_y-temp.filed_year_x>=0)][[\"wku_x\",\"citing\",\"filed_year_x\"]]\n",
    "#     outputs.columns = [\"wku\",\"citing\",\"filed_year\"]\n",
    "#     outputs=outputs.groupby([\"wku\",\"filed_year\"], as_index=False).count()\n",
    "#     return outputs"
   ]
  },
  {
   "cell_type": "code",
   "execution_count": 5,
   "metadata": {},
   "outputs": [],
   "source": [
    "# cross validations to find the ideal parameter for C and epsilon\n",
    "def svc_param_selection(X, y, nfolds):\n",
    "    Cs = [0.001, 0.01, 0.1, 1, 10]\n",
    "    epsilons = [0.001, 0.01, 0.1, 1]\n",
    "    param_grid = {'C': Cs, 'epsilon' : epsilons}\n",
    "    grid_search = GridSearchCV(LinearSVR(fit_intercept=False), param_grid, cv=nfolds)\n",
    "    grid_search.fit(X, y)\n",
    "    grid_search.best_params_\n",
    "    return grid_search.best_params_"
   ]
  },
  {
   "cell_type": "code",
   "execution_count": 6,
   "metadata": {},
   "outputs": [],
   "source": [
    "# Read NBER(2006) patent data and updated_patent_data generated from Patent prediction code\n",
    "CitationInfo = pd.read_stata(\"nber data/3930271_7155745_citation.dta\")\n",
    "YearInfo     = pd.read_stata(\"nber data/3930271_7155745_date.dta\")\n",
    "###Read Prof.Amit's file to keep the result constant.\n",
    "###This could be replace with Linear SVR output from patent prediction code.\n",
    "# PatInfo = pd.read_csv(\"updated_patent_data.csv\") \n",
    "PatInfo = pd.read_csv(\"updated_patent_data_Amit.csv\") \n"
   ]
  },
  {
   "cell_type": "code",
   "execution_count": 7,
   "metadata": {
    "scrolled": true
   },
   "outputs": [
    {
     "name": "stdout",
     "output_type": "stream",
     "text": [
      "        gvkey  filed_year  cat_code  wku  filed_year_1  cat_code_1  wku_1  \\\n",
      "0        1004        1976         1  0.0           NaN         NaN    NaN   \n",
      "1        1004        1977         1  0.0        1976.0         1.0    0.0   \n",
      "2        1004        1978         1  0.0        1977.0         1.0    0.0   \n",
      "3        1004        1979         1  0.0        1978.0         1.0    0.0   \n",
      "4        1004        1980         1  0.0        1979.0         1.0    0.0   \n",
      "5        1004        1981         1  0.0        1980.0         1.0    0.0   \n",
      "6        1004        1982         1  0.0        1981.0         1.0    0.0   \n",
      "7        1004        1983         1  0.0        1982.0         1.0    0.0   \n",
      "8        1004        1984         1  0.0        1983.0         1.0    0.0   \n",
      "9        1004        1985         1  1.0        1984.0         1.0    0.0   \n",
      "10       1004        1986         1  0.0        1985.0         1.0    1.0   \n",
      "11       1004        1987         1  0.0        1986.0         1.0    0.0   \n",
      "12       1004        1988         1  0.0        1987.0         1.0    0.0   \n",
      "13       1004        1989         1  0.0        1988.0         1.0    0.0   \n",
      "14       1004        1990         1  0.0        1989.0         1.0    0.0   \n",
      "15       1004        1991         1  0.0        1990.0         1.0    0.0   \n",
      "16       1004        1992         1  0.0        1991.0         1.0    0.0   \n",
      "17       1004        1993         1  0.0        1992.0         1.0    0.0   \n",
      "18       1004        1994         1  0.0        1993.0         1.0    0.0   \n",
      "19       1004        1995         1  0.0        1994.0         1.0    0.0   \n",
      "20       1004        1996         1  0.0        1995.0         1.0    0.0   \n",
      "21       1004        1997         1  0.0        1996.0         1.0    0.0   \n",
      "22       1004        1998         1  0.0        1997.0         1.0    0.0   \n",
      "23       1004        1999         1  0.0        1998.0         1.0    0.0   \n",
      "24       1004        2000         1  0.0        1999.0         1.0    0.0   \n",
      "25       1004        2001         1  0.0        2000.0         1.0    0.0   \n",
      "282048   1004        2002         1  0.0        2001.0         1.0    0.0   \n",
      "282049   1004        2003         1  0.0        2002.0         1.0    0.0   \n",
      "282050   1004        2004         1  0.0        2003.0         1.0    0.0   \n",
      "282051   1004        2005         1  0.0        2004.0         1.0    0.0   \n",
      "\n",
      "        gvkey_1  filed_year_2  cat_code_2  ...  wku_5  gvkey_5  filed_year_6  \\\n",
      "0           NaN           NaN         NaN  ...    NaN      NaN           NaN   \n",
      "1        1004.0           NaN         NaN  ...    NaN      NaN           NaN   \n",
      "2        1004.0        1976.0         1.0  ...    NaN      NaN           NaN   \n",
      "3        1004.0        1977.0         1.0  ...    NaN      NaN           NaN   \n",
      "4        1004.0        1978.0         1.0  ...    NaN      NaN           NaN   \n",
      "5        1004.0        1979.0         1.0  ...    0.0   1004.0           NaN   \n",
      "6        1004.0        1980.0         1.0  ...    0.0   1004.0        1976.0   \n",
      "7        1004.0        1981.0         1.0  ...    0.0   1004.0        1977.0   \n",
      "8        1004.0        1982.0         1.0  ...    0.0   1004.0        1978.0   \n",
      "9        1004.0        1983.0         1.0  ...    0.0   1004.0        1979.0   \n",
      "10       1004.0        1984.0         1.0  ...    0.0   1004.0        1980.0   \n",
      "11       1004.0        1985.0         1.0  ...    0.0   1004.0        1981.0   \n",
      "12       1004.0        1986.0         1.0  ...    0.0   1004.0        1982.0   \n",
      "13       1004.0        1987.0         1.0  ...    0.0   1004.0        1983.0   \n",
      "14       1004.0        1988.0         1.0  ...    1.0   1004.0        1984.0   \n",
      "15       1004.0        1989.0         1.0  ...    0.0   1004.0        1985.0   \n",
      "16       1004.0        1990.0         1.0  ...    0.0   1004.0        1986.0   \n",
      "17       1004.0        1991.0         1.0  ...    0.0   1004.0        1987.0   \n",
      "18       1004.0        1992.0         1.0  ...    0.0   1004.0        1988.0   \n",
      "19       1004.0        1993.0         1.0  ...    0.0   1004.0        1989.0   \n",
      "20       1004.0        1994.0         1.0  ...    0.0   1004.0        1990.0   \n",
      "21       1004.0        1995.0         1.0  ...    0.0   1004.0        1991.0   \n",
      "22       1004.0        1996.0         1.0  ...    0.0   1004.0        1992.0   \n",
      "23       1004.0        1997.0         1.0  ...    0.0   1004.0        1993.0   \n",
      "24       1004.0        1998.0         1.0  ...    0.0   1004.0        1994.0   \n",
      "25       1004.0        1999.0         1.0  ...    0.0   1004.0        1995.0   \n",
      "282048   1004.0        2000.0         1.0  ...    0.0   1004.0        1996.0   \n",
      "282049   1004.0        2001.0         1.0  ...    0.0   1004.0        1997.0   \n",
      "282050   1004.0        2002.0         1.0  ...    0.0   1004.0        1998.0   \n",
      "282051   1004.0        2003.0         1.0  ...    0.0   1004.0        1999.0   \n",
      "\n",
      "        cat_code_6  wku_6  gvkey_6  filed_year_7  cat_code_7  wku_7  gvkey_7  \n",
      "0              NaN    NaN      NaN           NaN         NaN    NaN      NaN  \n",
      "1              NaN    NaN      NaN           NaN         NaN    NaN      NaN  \n",
      "2              NaN    NaN      NaN           NaN         NaN    NaN      NaN  \n",
      "3              NaN    NaN      NaN           NaN         NaN    NaN      NaN  \n",
      "4              NaN    NaN      NaN           NaN         NaN    NaN      NaN  \n",
      "5              NaN    NaN      NaN           NaN         NaN    NaN      NaN  \n",
      "6              1.0    0.0   1004.0           NaN         NaN    NaN      NaN  \n",
      "7              1.0    0.0   1004.0        1976.0         1.0    0.0   1004.0  \n",
      "8              1.0    0.0   1004.0        1977.0         1.0    0.0   1004.0  \n",
      "9              1.0    0.0   1004.0        1978.0         1.0    0.0   1004.0  \n",
      "10             1.0    0.0   1004.0        1979.0         1.0    0.0   1004.0  \n",
      "11             1.0    0.0   1004.0        1980.0         1.0    0.0   1004.0  \n",
      "12             1.0    0.0   1004.0        1981.0         1.0    0.0   1004.0  \n",
      "13             1.0    0.0   1004.0        1982.0         1.0    0.0   1004.0  \n",
      "14             1.0    0.0   1004.0        1983.0         1.0    0.0   1004.0  \n",
      "15             1.0    1.0   1004.0        1984.0         1.0    0.0   1004.0  \n",
      "16             1.0    0.0   1004.0        1985.0         1.0    1.0   1004.0  \n",
      "17             1.0    0.0   1004.0        1986.0         1.0    0.0   1004.0  \n",
      "18             1.0    0.0   1004.0        1987.0         1.0    0.0   1004.0  \n",
      "19             1.0    0.0   1004.0        1988.0         1.0    0.0   1004.0  \n",
      "20             1.0    0.0   1004.0        1989.0         1.0    0.0   1004.0  \n",
      "21             1.0    0.0   1004.0        1990.0         1.0    0.0   1004.0  \n",
      "22             1.0    0.0   1004.0        1991.0         1.0    0.0   1004.0  \n",
      "23             1.0    0.0   1004.0        1992.0         1.0    0.0   1004.0  \n",
      "24             1.0    0.0   1004.0        1993.0         1.0    0.0   1004.0  \n",
      "25             1.0    0.0   1004.0        1994.0         1.0    0.0   1004.0  \n",
      "282048         1.0    0.0   1004.0        1995.0         1.0    0.0   1004.0  \n",
      "282049         1.0    0.0   1004.0        1996.0         1.0    0.0   1004.0  \n",
      "282050         1.0    0.0   1004.0        1997.0         1.0    0.0   1004.0  \n",
      "282051         1.0    0.0   1004.0        1998.0         1.0    0.0   1004.0  \n",
      "\n",
      "[30 rows x 32 columns]\n"
     ]
    }
   ],
   "source": [
    "# Create 8 lag variable for file year/class/patent id/firm id\n",
    "PatInfo = PatInfo.sort_values([\"gvkey\",\"cat_code\",\"filed_year\"])\n",
    "for i in range(1,8):\n",
    "    PatInfo[\"filed_year_\"+str(i)] = PatInfo[\"filed_year\"].shift(i)\n",
    "    PatInfo[\"cat_code_\"+str(i)] = PatInfo[\"cat_code\"].shift(i)\n",
    "    PatInfo[\"wku_\"+str(i)] = PatInfo[\"wku\"].shift(i)\n",
    "    PatInfo[\"gvkey_\"+str(i)] = PatInfo[\"gvkey\"].shift(i)\n",
    "print PatInfo.head(30)"
   ]
  },
  {
   "cell_type": "code",
   "execution_count": 8,
   "metadata": {},
   "outputs": [],
   "source": [
    "# The and operation applied here is tring to make sure each record/row have no Nah values,\n",
    "# which means to make sure the input feature matrix for the later prediction has no Nahs.\n",
    "PatInfo = PatInfo[(PatInfo.gvkey==PatInfo.gvkey_1)& \\\n",
    "                                                  (PatInfo.gvkey==PatInfo.gvkey_2)& \\\n",
    "                                                  (PatInfo.gvkey==PatInfo.gvkey_3)& \\\n",
    "                                                  (PatInfo.gvkey==PatInfo.gvkey_4)& \\\n",
    "                                                  (PatInfo.gvkey==PatInfo.gvkey_5)& \\\n",
    "                                                  (PatInfo.gvkey==PatInfo.gvkey_6)& \\\n",
    "                                                  (PatInfo.gvkey==PatInfo.gvkey_7)& \\\n",
    "                                                  (PatInfo.cat_code==PatInfo.cat_code_1)& \\\n",
    "                                                  (PatInfo.cat_code==PatInfo.cat_code_2)& \\\n",
    "                                                  (PatInfo.cat_code==PatInfo.cat_code_3)& \\\n",
    "                                                  (PatInfo.cat_code==PatInfo.cat_code_4)& \\\n",
    "                                                  (PatInfo.cat_code==PatInfo.cat_code_5)& \\\n",
    "                                                  (PatInfo.cat_code==PatInfo.cat_code_6)& \\\n",
    "                                                  (PatInfo.cat_code==PatInfo.cat_code_7)& \\\n",
    "                                                  (PatInfo.filed_year==PatInfo.filed_year_1+1)& \\\n",
    "                                                  (PatInfo.filed_year==PatInfo.filed_year_2+2)& \\\n",
    "                                                  (PatInfo.filed_year==PatInfo.filed_year_3+3)& \\\n",
    "                                                  (PatInfo.filed_year==PatInfo.filed_year_4+4)& \\\n",
    "                                                  (PatInfo.filed_year==PatInfo.filed_year_5+5)& \\\n",
    "                                                  (PatInfo.filed_year==PatInfo.filed_year_6+6)& \\\n",
    "                                                  (PatInfo.filed_year==PatInfo.filed_year_7+7)]"
   ]
  },
  {
   "cell_type": "markdown",
   "metadata": {},
   "source": [
    "print PatInfo.head(10)"
   ]
  },
  {
   "cell_type": "code",
   "execution_count": 9,
   "metadata": {},
   "outputs": [],
   "source": [
    "# we only use the former six year's wku information. Here we select them.\n",
    "PatInfo_final = PatInfo[[\"gvkey\",\"filed_year\",\"cat_code\",\"wku\",\"wku_1\",\"wku_2\",\"wku_3\",\"wku_4\",\"wku_5\",\"wku_6\"]]"
   ]
  },
  {
   "cell_type": "code",
   "execution_count": 10,
   "metadata": {},
   "outputs": [],
   "source": [
    "#print PatInfo_final.head(10)"
   ]
  },
  {
   "cell_type": "code",
   "execution_count": 11,
   "metadata": {},
   "outputs": [],
   "source": [
    "# Here we get PatInfo_final_cites(A)\n",
    "PatInfo_final_cites = PatInfo_final\n",
    "#print PatInfo_final_cites.shape"
   ]
  },
  {
   "cell_type": "code",
   "execution_count": 12,
   "metadata": {},
   "outputs": [
    {
     "name": "stdout",
     "output_type": "stream",
     "text": [
      "     wku_x   citing  filed_year_x  issue_year_x    wku_y  filed_year_y  \\\n",
      "0  3930271  5135226          1974          1976  5135226          1991   \n",
      "1  4025077  5135226          1976          1977  5135226          1991   \n",
      "2  4062540  5135226          1976          1977  5135226          1991   \n",
      "3  4590625  5135226          1985          1986  5135226          1991   \n",
      "4  4796302  5135226          1987          1989  5135226          1991   \n",
      "5  4892315  5135226          1988          1990  5135226          1991   \n",
      "6  3930271  5592695          1974          1976  5592695          1996   \n",
      "7  4000903  5592695          1975          1977  5592695          1996   \n",
      "8  4329741  5592695          1980          1982  5592695          1996   \n",
      "9  4665565  5592695          1986          1987  5592695          1996   \n",
      "\n",
      "   issue_year_y  \n",
      "0          1992  \n",
      "1          1992  \n",
      "2          1992  \n",
      "3          1992  \n",
      "4          1992  \n",
      "5          1992  \n",
      "6          1997  \n",
      "7          1997  \n",
      "8          1997  \n",
      "9          1997  \n",
      "selectedFrameAbove\n",
      "11094194\n",
      "selectedFrameBelow\n",
      "10542535\n",
      "selectedFrameAbove\n",
      "11094194\n",
      "selectedFrameBelow\n",
      "9904406\n",
      "selectedFrameAbove\n",
      "11094194\n",
      "selectedFrameBelow\n",
      "9175747\n",
      "selectedFrameAbove\n",
      "11094194\n",
      "selectedFrameBelow\n",
      "8366933\n",
      "selectedFrameAbove\n",
      "11094194\n",
      "selectedFrameBelow\n",
      "7502031\n",
      "selectedFrameAbove\n",
      "11094194\n",
      "selectedFrameBelow\n",
      "6608768\n",
      "selectedFrameAbove\n",
      "11094194\n",
      "selectedFrameBelow\n",
      "5695933\n",
      "selectedFrameAbove\n",
      "11094194\n",
      "selectedFrameBelow\n",
      "4767697\n",
      "selectedFrameAbove\n",
      "11094194\n",
      "selectedFrameBelow\n",
      "3820608\n",
      "selectedFrameAbove\n",
      "11094194\n",
      "selectedFrameBelow\n",
      "2868473\n",
      "('Time: ', 11.920591115951538)\n",
      "1.05232697828\n",
      "1.12012714341\n",
      "1.20907801839\n",
      "1.32595707412\n",
      "1.47882540075\n",
      "1.67870834625\n",
      "1.94773955382\n",
      "2.32695030745\n",
      "2.90377709516\n",
      "3.86763061741\n"
     ]
    }
   ],
   "source": [
    "# Here initialize the merge of the citationInfo and YearInfo to get CitationInfo_date_agg (B)\n",
    "CitationInfo_date = pd.merge(CitationInfo, YearInfo[[\"wku\",\"filed_year\",\"issue_year\"]], how=\"left\", on=\"wku\") \n",
    "CitationInfo_date = pd.merge(CitationInfo_date , YearInfo[[\"wku\",\"filed_year\",\"issue_year\"]], how=\"left\", left_on=\"citing\", right_on=\"wku\")\n",
    "print CitationInfo_date.head(10)\n",
    "\n",
    "\n",
    "start = timeit.default_timer()\n",
    "Year1993Ratio = get_citation_ratio(1976, 1992, CitationInfo_date, 14, 13)\n",
    "Year1994Ratio = get_citation_ratio(1976, 1992, CitationInfo_date, 14, 12)\n",
    "Year1995Ratio = get_citation_ratio(1976, 1992, CitationInfo_date, 14, 11)\n",
    "Year1996Ratio = get_citation_ratio(1976, 1992, CitationInfo_date, 14, 10)\n",
    "Year1997Ratio = get_citation_ratio(1976, 1992, CitationInfo_date, 14, 9)\n",
    "Year1998Ratio = get_citation_ratio(1976, 1992, CitationInfo_date, 14, 8)\n",
    "Year1999Ratio = get_citation_ratio(1976, 1992, CitationInfo_date, 14, 7)\n",
    "Year2000Ratio = get_citation_ratio(1976, 1992, CitationInfo_date, 14, 6)\n",
    "Year2001Ratio = get_citation_ratio(1976, 1992, CitationInfo_date, 14, 5)\n",
    "Year2002Ratio = get_citation_ratio(1976, 1992, CitationInfo_date, 14, 4)\n",
    "#Year2002Ratio=Year2001Ratio\n",
    "stop = timeit.default_timer()\n",
    "\n",
    "print ('Time: ', stop - start)\n",
    "\n",
    "print Year1993Ratio\n",
    "print Year1994Ratio\n",
    "print Year1995Ratio\n",
    "print Year1996Ratio\n",
    "print Year1997Ratio\n",
    "print Year1998Ratio\n",
    "print Year1999Ratio\n",
    "print Year2000Ratio\n",
    "print Year2001Ratio\n",
    "print Year2002Ratio\n",
    "\n"
   ]
  },
  {
   "cell_type": "code",
   "execution_count": 13,
   "metadata": {},
   "outputs": [],
   "source": [
    "CitationInfo_date[\"gap\"] = CitationInfo_date.filed_year_y - CitationInfo_date.filed_year_x"
   ]
  },
  {
   "cell_type": "code",
   "execution_count": 14,
   "metadata": {},
   "outputs": [],
   "source": [
    "CitationInfo_date = CitationInfo_date[CitationInfo_date.gap>=0]"
   ]
  },
  {
   "cell_type": "code",
   "execution_count": 15,
   "metadata": {},
   "outputs": [],
   "source": [
    "CitationInfo_date = CitationInfo_date[[\"wku_x\", \"citing\", \"filed_year_x\", \"gap\"]]"
   ]
  },
  {
   "cell_type": "code",
   "execution_count": 16,
   "metadata": {},
   "outputs": [],
   "source": [
    "CitationInfo_date.columns = [\"wku\",\"citing\",\"filed_year\",\"gap\"]"
   ]
  },
  {
   "cell_type": "code",
   "execution_count": 17,
   "metadata": {},
   "outputs": [],
   "source": [
    "CitationInfo_date_agg = CitationInfo_date.groupby([\"wku\",\"filed_year\",\"gap\"], as_index=False).count()"
   ]
  },
  {
   "cell_type": "code",
   "execution_count": 18,
   "metadata": {},
   "outputs": [],
   "source": [
    "# Delete some stored Panda frames to release memories.\n",
    "lst = [CitationInfo, YearInfo, CitationInfo_date]\n",
    "del lst\n",
    "#print CitationInfo_date_agg.head(30)\n",
    "#CitationInfo_date_agg.info()"
   ]
  },
  {
   "cell_type": "code",
   "execution_count": 19,
   "metadata": {},
   "outputs": [],
   "source": [
    "## We read FrimInfo and classinfo, then merge citatioInfo_data_agg (B) into it.\n",
    "FirmInfo     = pd.read_stata(\"nber data/NBER_US_public_firm_assignee.dta\")\n",
    "ClassInfo    = pd.read_stata(\"nber data/3930271_8341762_class.dta\")"
   ]
  },
  {
   "cell_type": "code",
   "execution_count": 20,
   "metadata": {},
   "outputs": [],
   "source": [
    "FirmInfo_class = pd.merge(FirmInfo, ClassInfo[[\"wku\",\"cat_code\"]], how=\"left\", on=\"wku\").dropna()"
   ]
  },
  {
   "cell_type": "code",
   "execution_count": 21,
   "metadata": {},
   "outputs": [],
   "source": [
    "FirmInfo_class_cite = pd.merge(FirmInfo_class, CitationInfo_date_agg[[\"wku\",\"gap\",\"citing\"]], how=\"left\", on=\"wku\").fillna(0)"
   ]
  },
  {
   "cell_type": "code",
   "execution_count": 22,
   "metadata": {
    "scrolled": true
   },
   "outputs": [],
   "source": [
    "FirmInfo_class_cite_agg = FirmInfo_class_cite[(FirmInfo_class_cite.filed_year>=1976)][[\"gvkey\",\"filed_year\",\"cat_code\",\"gap\",\"citing\"]].groupby([\"gvkey\",\"filed_year\",\"cat_code\",\"gap\"], as_index=False).sum()"
   ]
  },
  {
   "cell_type": "code",
   "execution_count": 23,
   "metadata": {
    "scrolled": true
   },
   "outputs": [],
   "source": [
    "# Set up the prediction horizon for citation\n",
    "FirmInfo_class_cite_agg_h = FirmInfo_class_cite_agg[FirmInfo_class_cite_agg.gap<=10][[\"gvkey\",\"filed_year\",\"cat_code\",\"citing\"]].groupby([\"gvkey\",\"filed_year\",\"cat_code\"], as_index=False).sum()"
   ]
  },
  {
   "cell_type": "code",
   "execution_count": 24,
   "metadata": {},
   "outputs": [],
   "source": [
    "lst2 = [FirmInfo,ClassInfo, FirmInfo_class, FirmInfo_class_cite, FirmInfo_class_cite_agg]\n",
    "del lst2"
   ]
  },
  {
   "cell_type": "code",
   "execution_count": 25,
   "metadata": {},
   "outputs": [],
   "source": [
    "# Now we did the final merge, merge the FirmInfo_class_cite_agg_h with PatInfo_final_cites(A)\n",
    "FirmInfo_class_cite_pat_agg = pd.merge(PatInfo_final_cites, FirmInfo_class_cite_agg_h, how=\"left\", on=[\"gvkey\",\"filed_year\",\"cat_code\"]).fillna(0)"
   ]
  },
  {
   "cell_type": "code",
   "execution_count": 26,
   "metadata": {},
   "outputs": [],
   "source": [
    "# create a six column feature matrix in cat_code. This step is used to transform the cat_code.\n",
    "DummyCat  = pd.get_dummies(FirmInfo_class_cite_pat_agg.cat_code)"
   ]
  },
  {
   "cell_type": "code",
   "execution_count": 27,
   "metadata": {},
   "outputs": [],
   "source": [
    "ML_input = pd.concat([FirmInfo_class_cite_pat_agg, DummyCat], axis=1)"
   ]
  },
  {
   "cell_type": "code",
   "execution_count": 28,
   "metadata": {},
   "outputs": [
    {
     "data": {
      "text/plain": [
       "Index([     u'gvkey', u'filed_year',   u'cat_code',        u'wku',\n",
       "            u'wku_1',      u'wku_2',      u'wku_3',      u'wku_4',\n",
       "            u'wku_5',      u'wku_6',     u'citing',             1,\n",
       "                   2,             3,             4,             5,\n",
       "                   6],\n",
       "      dtype='object')"
      ]
     },
     "execution_count": 28,
     "metadata": {},
     "output_type": "execute_result"
    }
   ],
   "source": [
    "ML_input.columns\n"
   ]
  },
  {
   "cell_type": "code",
   "execution_count": 29,
   "metadata": {
    "scrolled": true
   },
   "outputs": [],
   "source": [
    "# ML_input.columns= [     u'gvkey', u'filed_year',   u'cat_code',        u'wku',\n",
    "#             u'wku_1',      u'wku_2',      u'wku_3',      u'wku_4',\n",
    "#             u'wku_5',        u'wku_6',     u'citing',     u'logciting',           \"cat_code1\",\n",
    "#                  \"cat_code2\",           \"cat_code3\",           \"cat_code4\",           \"cat_code5\",\n",
    "#                  \"cat_code6\"]\n",
    "ML_input.columns= [     u'gvkey', u'filed_year',   u'cat_code',        u'wku',\n",
    "            u'wku_1',      u'wku_2',      u'wku_3',      u'wku_4',\n",
    "            u'wku_5',        u'wku_6',     u'citing',           \"cat_code1\",\n",
    "                 \"cat_code2\",           \"cat_code3\",           \"cat_code4\",           \"cat_code5\",\n",
    "                 \"cat_code6\"]"
   ]
  },
  {
   "cell_type": "code",
   "execution_count": 30,
   "metadata": {},
   "outputs": [],
   "source": [
    "#print ML_input.head(20)"
   ]
  },
  {
   "cell_type": "code",
   "execution_count": 31,
   "metadata": {},
   "outputs": [],
   "source": [
    "# Here we include additional features calculated by another source.\n",
    "\n",
    "#print ML_input.shape\n",
    "AddionalFeatures = pd.read_csv(\"regressions/firm characters/TEMP1.csv\")\n",
    "AddionalFeatures.rename(columns={'year':'filed_year'}, inplace=True)\n",
    "#print AddionalFeatures.head(10)\n",
    "ML_input_withAdditional = pd.merge(ML_input, AddionalFeatures, how=\"left\", on=[\"gvkey\",\"filed_year\"]).fillna(0)\n",
    "#print ML_input_withAdditional.shape\n",
    "#print ML_input_withAdditional.head(10)\n",
    "#ML_input_withAdditional.to_csv('temp.csv',index=False)\n",
    "\n",
    "ML_input=ML_input_withAdditional"
   ]
  },
  {
   "cell_type": "code",
   "execution_count": 32,
   "metadata": {
    "scrolled": true
   },
   "outputs": [
    {
     "name": "stdout",
     "output_type": "stream",
     "text": [
      "   gvkey  filed_year  cat_code  wku  wku_1  wku_2  wku_3  wku_4  wku_5  wku_6  \\\n",
      "0   1004        1983         1  0.0    0.0    0.0    0.0    0.0    0.0    0.0   \n",
      "1   1004        1984         1  0.0    0.0    0.0    0.0    0.0    0.0    0.0   \n",
      "2   1004        1985         1  1.0    0.0    0.0    0.0    0.0    0.0    0.0   \n",
      "3   1004        1986         1  0.0    1.0    0.0    0.0    0.0    0.0    0.0   \n",
      "4   1004        1987         1  0.0    0.0    1.0    0.0    0.0    0.0    0.0   \n",
      "5   1004        1988         1  0.0    0.0    0.0    1.0    0.0    0.0    0.0   \n",
      "6   1004        1989         1  0.0    0.0    0.0    0.0    1.0    0.0    0.0   \n",
      "7   1004        1990         1  0.0    0.0    0.0    0.0    0.0    1.0    0.0   \n",
      "8   1004        1991         1  0.0    0.0    0.0    0.0    0.0    0.0    1.0   \n",
      "9   1004        1992         1  0.0    0.0    0.0    0.0    0.0    0.0    0.0   \n",
      "\n",
      "   ...  cat_code6  w_cash2asset  w_rd2sale  w_M2B  w_LOG_SIZE  w_roa  w_lev  \\\n",
      "0  ...          0           0.0        0.0    0.0         0.0    0.0    0.0   \n",
      "1  ...          0           0.0        0.0    0.0         0.0    0.0    0.0   \n",
      "2  ...          0           0.0        0.0    0.0         0.0    0.0    0.0   \n",
      "3  ...          0           0.0        0.0    0.0         0.0    0.0    0.0   \n",
      "4  ...          0           0.0        0.0    0.0         0.0    0.0    0.0   \n",
      "5  ...          0           0.0        0.0    0.0         0.0    0.0    0.0   \n",
      "6  ...          0           0.0        0.0    0.0         0.0    0.0    0.0   \n",
      "7  ...          0           0.0        0.0    0.0         0.0    0.0    0.0   \n",
      "8  ...          0           0.0        0.0    0.0         0.0    0.0    0.0   \n",
      "9  ...          0           0.0        0.0    0.0         0.0    0.0    0.0   \n",
      "\n",
      "   w_spread  log_state_patents  log_class_patents  \n",
      "0       0.0                0.0                0.0  \n",
      "1       0.0                0.0                0.0  \n",
      "2       0.0                0.0                0.0  \n",
      "3       0.0                0.0                0.0  \n",
      "4       0.0                0.0                0.0  \n",
      "5       0.0                0.0                0.0  \n",
      "6       0.0                0.0                0.0  \n",
      "7       0.0                0.0                0.0  \n",
      "8       0.0                0.0                0.0  \n",
      "9       0.0                0.0                0.0  \n",
      "\n",
      "[10 rows x 26 columns]\n",
      "    gvkey  filed_year  cat_code  wku  wku_1  wku_2  wku_3  wku_4  wku_5  \\\n",
      "10   1004        1993         1  0.0    0.0    0.0    0.0    0.0    0.0   \n",
      "11   1004        1994         1  0.0    0.0    0.0    0.0    0.0    0.0   \n",
      "12   1004        1995         1  0.0    0.0    0.0    0.0    0.0    0.0   \n",
      "13   1004        1996         1  0.0    0.0    0.0    0.0    0.0    0.0   \n",
      "14   1004        1997         1  0.0    0.0    0.0    0.0    0.0    0.0   \n",
      "15   1004        1998         1  0.0    0.0    0.0    0.0    0.0    0.0   \n",
      "16   1004        1999         1  0.0    0.0    0.0    0.0    0.0    0.0   \n",
      "17   1004        2000         1  0.0    0.0    0.0    0.0    0.0    0.0   \n",
      "18   1004        2001         1  0.0    0.0    0.0    0.0    0.0    0.0   \n",
      "19   1004        2002         1  0.0    0.0    0.0    0.0    0.0    0.0   \n",
      "\n",
      "    wku_6  ...  cat_code6  w_cash2asset  w_rd2sale  w_M2B  w_LOG_SIZE  w_roa  \\\n",
      "10    0.0  ...          0           0.0        0.0    0.0         0.0    0.0   \n",
      "11    0.0  ...          0           0.0        0.0    0.0         0.0    0.0   \n",
      "12    0.0  ...          0           0.0        0.0    0.0         0.0    0.0   \n",
      "13    0.0  ...          0           0.0        0.0    0.0         0.0    0.0   \n",
      "14    0.0  ...          0           0.0        0.0    0.0         0.0    0.0   \n",
      "15    0.0  ...          0           0.0        0.0    0.0         0.0    0.0   \n",
      "16    0.0  ...          0           0.0        0.0    0.0         0.0    0.0   \n",
      "17    0.0  ...          0           0.0        0.0    0.0         0.0    0.0   \n",
      "18    0.0  ...          0           0.0        0.0    0.0         0.0    0.0   \n",
      "19    0.0  ...          0           0.0        0.0    0.0         0.0    0.0   \n",
      "\n",
      "    w_lev  w_spread  log_state_patents  log_class_patents  \n",
      "10    0.0       0.0                0.0                0.0  \n",
      "11    0.0       0.0                0.0                0.0  \n",
      "12    0.0       0.0                0.0                0.0  \n",
      "13    0.0       0.0                0.0                0.0  \n",
      "14    0.0       0.0                0.0                0.0  \n",
      "15    0.0       0.0                0.0                0.0  \n",
      "16    0.0       0.0                0.0                0.0  \n",
      "17    0.0       0.0                0.0                0.0  \n",
      "18    0.0       0.0                0.0                0.0  \n",
      "19    0.0       0.0                0.0                0.0  \n",
      "\n",
      "[10 rows x 26 columns]\n"
     ]
    }
   ],
   "source": [
    "# Set up the year since when to apply the prediction\n",
    "syear = 1992\n",
    "# ML_input_train = ML_input[(ML_input.filed_year<=syear)&(ML_input.filed_year>=1980)]\n",
    "ML_input_train = ML_input[(ML_input.filed_year<=syear)]\n",
    "ML_input_pred = ML_input[(ML_input.filed_year>syear)&(ML_input.filed_year<=2002)]\n",
    "\n",
    "print ML_input_train.head(10)\n",
    "print ML_input_pred.head(10)"
   ]
  },
  {
   "cell_type": "code",
   "execution_count": 33,
   "metadata": {},
   "outputs": [],
   "source": [
    "# ## No additional features\n",
    "\n",
    "# ML_input_trainX = ML_input_train[[\"wku\",\"wku_1\",\"wku_2\",\"wku_3\",\"wku_4\",\"wku_5\",\"wku_6\",\"cat_code1\",\"cat_code2\",\"cat_code3\",\"cat_code4\",\"cat_code5\",\"cat_code6\"]].values\n",
    "# ML_input_trainY = ML_input_train[[\"citing\"]].values\n",
    "\n",
    "# ML_input_predX = ML_input_pred[[\"wku\",\"wku_1\",\"wku_2\",\"wku_3\",\"wku_4\",\"wku_5\",\"wku_6\",\"cat_code1\",\"cat_code2\",\"cat_code3\",\"cat_code4\",\"cat_code5\",\"cat_code6\"]].values"
   ]
  },
  {
   "cell_type": "code",
   "execution_count": 34,
   "metadata": {},
   "outputs": [
    {
     "name": "stderr",
     "output_type": "stream",
     "text": [
      "/home/yuansun/.local/lib/python2.7/site-packages/sklearn/utils/validation.py:761: DataConversionWarning: A column-vector y was passed when a 1d array was expected. Please change the shape of y to (n_samples, ), for example using ravel().\n",
      "  y = column_or_1d(y, warn=True)\n"
     ]
    },
    {
     "name": "stdout",
     "output_type": "stream",
     "text": [
      "['wku', 'wku_1', 'wku_2', 'wku_3', 'wku_4', 'wku_5', 'wku_6', 'cat_code1', 'cat_code2', 'cat_code3', 'cat_code4', 'cat_code5', 'cat_code6', 'w_cash2asset', 'w_rd2sale', 'w_M2B', 'w_LOG_SIZE', 'w_roa', 'w_lev', 'w_spread', 'log_state_patents', 'log_class_patents']\n"
     ]
    }
   ],
   "source": [
    "ML_input_trainX = ML_input_train[[\"wku\",\"wku_1\",\"wku_2\",\"wku_3\",\"wku_4\",\"wku_5\",\"wku_6\",\"cat_code1\",\"cat_code2\",\"cat_code3\",\"cat_code4\",\"cat_code5\",\"cat_code6\",\"w_cash2asset\",\"w_rd2sale\",\"w_M2B\",\"w_LOG_SIZE\",\"w_roa\",\"w_lev\",\"w_spread\",\"log_state_patents\",\"log_class_patents\"\n",
    "]].values\n",
    "ML_input_trainY = ML_input_train[[\"citing\"]].values\n",
    "\n",
    "ML_input_predX = ML_input_pred[[\"wku\",\"wku_1\",\"wku_2\",\"wku_3\",\"wku_4\",\"wku_5\",\"wku_6\",\"cat_code1\",\"cat_code2\",\"cat_code3\",\"cat_code4\",\"cat_code5\",\"cat_code6\",\"w_cash2asset\",\"w_rd2sale\",\"w_M2B\",\"w_LOG_SIZE\",\"w_roa\",\"w_lev\",\"w_spread\",\"log_state_patents\",\"log_class_patents\"\n",
    "]].values\n",
    "\n",
    "#print ML_input_trainX.shape\n",
    "from sklearn.feature_selection import SelectKBest\n",
    "from sklearn.feature_selection import f_classif\n",
    "SelectModel = SelectKBest(f_classif, k='all')\n",
    "#SelectModel = SelectKBest(f_classif, k=10)\n",
    "ML_input_trainX = SelectModel.fit_transform(ML_input_trainX, ML_input_trainY)\n",
    "ML_input_predX = SelectModel.transform(ML_input_predX)\n",
    "#print ML_input_trainX.head(20)\n",
    "\n",
    "##Get Selected Features\n",
    "feature_names = [\"wku\",\"wku_1\",\"wku_2\",\"wku_3\",\"wku_4\",\"wku_5\",\"wku_6\",\"cat_code1\",\"cat_code2\",\"cat_code3\",\"cat_code4\",\"cat_code5\",\"cat_code6\",\"w_cash2asset\",\"w_rd2sale\",\"w_M2B\",\"w_LOG_SIZE\",\"w_roa\",\"w_lev\",\"w_spread\",\"log_state_patents\",\"log_class_patents\"]\n",
    "mask = SelectModel.get_support() #list of booleans\n",
    "new_features = [] # The list of your K best features\n",
    "\n",
    "for bool, feature in zip(mask, feature_names):\n",
    "    if bool:\n",
    "        new_features.append(feature)\n",
    "print new_features"
   ]
  },
  {
   "cell_type": "code",
   "execution_count": 35,
   "metadata": {},
   "outputs": [],
   "source": [
    "# ML_input_trainX = ML_input_train[[\"wku_1\",\"wku_2\",\"wku_3\",\"wku_4\",\"wku_5\",\"wku_6\",\"cat_code1\",\"cat_code2\",\"cat_code3\",\"cat_code4\",\"cat_code5\",\"cat_code6\",\"w_cash2asset\",\"w_rd2sale\",\"w_M2B\",\"w_LOG_SIZE\",\"w_roa\",\"w_lev\",\"w_spread\",\"log_state_patents\",\"log_class_patents\"\n",
    "# ]].values\n",
    "# ML_input_trainY = ML_input_train[[\"citing\"]].values\n",
    "\n",
    "# ML_input_predX = ML_input_pred[[\"wku_1\",\"wku_2\",\"wku_3\",\"wku_4\",\"wku_5\",\"wku_6\",\"cat_code1\",\"cat_code2\",\"cat_code3\",\"cat_code4\",\"cat_code5\",\"cat_code6\",\"w_cash2asset\",\"w_rd2sale\",\"w_M2B\",\"w_LOG_SIZE\",\"w_roa\",\"w_lev\",\"w_spread\",\"log_state_patents\",\"log_class_patents\"\n",
    "# ]].values\n",
    "\n",
    "# #print ML_input_trainX.shape\n",
    "# from sklearn.feature_selection import SelectKBest\n",
    "# from sklearn.feature_selection import f_classif\n",
    "# SelectModel = SelectKBest(f_classif, k='all')\n",
    "# #SelectModel = SelectKBest(f_classif, k=10)\n",
    "# ML_input_trainX = SelectModel.fit_transform(ML_input_trainX, ML_input_trainY)\n",
    "# ML_input_predX = SelectModel.transform(ML_input_predX)\n",
    "# #print ML_input_trainX.head(20)\n",
    "\n",
    "# ##Get Selected Features\n",
    "# feature_names = [\"wku_1\",\"wku_2\",\"wku_3\",\"wku_4\",\"wku_5\",\"wku_6\",\"cat_code1\",\"cat_code2\",\"cat_code3\",\"cat_code4\",\"cat_code5\",\"cat_code6\",\"w_cash2asset\",\"w_rd2sale\",\"w_M2B\",\"w_LOG_SIZE\",\"w_roa\",\"w_lev\",\"w_spread\",\"log_state_patents\",\"log_class_patents\"]\n",
    "# mask = SelectModel.get_support() #list of booleans\n",
    "# new_features = [] # The list of your K best features\n",
    "\n",
    "# for bool, feature in zip(mask, feature_names):\n",
    "#     if bool:\n",
    "#         new_features.append(feature)\n",
    "# print new_features"
   ]
  },
  {
   "cell_type": "code",
   "execution_count": 36,
   "metadata": {},
   "outputs": [],
   "source": [
    "#ML_input_train.filed_year.min()"
   ]
  },
  {
   "cell_type": "code",
   "execution_count": 37,
   "metadata": {},
   "outputs": [],
   "source": [
    "#ML_input_train.shape"
   ]
  },
  {
   "cell_type": "code",
   "execution_count": 38,
   "metadata": {},
   "outputs": [],
   "source": [
    "X = ML_input_trainX\n",
    "\n",
    "Y = ML_input_trainY\n",
    "\n",
    "#print ML_input_trainX\n",
    "#print ML_input_trainY"
   ]
  },
  {
   "cell_type": "code",
   "execution_count": 39,
   "metadata": {},
   "outputs": [
    {
     "name": "stderr",
     "output_type": "stream",
     "text": [
      "/usr/local/lib/python2.7/dist-packages/ipykernel_launcher.py:38: DataConversionWarning: A column-vector y was passed when a 1d array was expected. Please change the shape of y to (n_samples,), for example using ravel().\n"
     ]
    }
   ],
   "source": [
    "\n",
    "\n",
    "\n",
    "# Linear SVM Model\n",
    "# clf = LinearSVR(C = 200, epsilon = 0.01, loss=\"squared_epsilon_insensitive\")\n",
    "# clf.fit(X, Y)\n",
    "\n",
    "### Lasso Model\n",
    "# from sklearn import linear_model\n",
    "# clf = linear_model.Lasso(alpha=0.1)\n",
    "# clf.fit(X, Y)\n",
    "\n",
    "### Ridge Model\n",
    "# from sklearn import linear_model\n",
    "# clf = linear_model.Ridge(alpha=1.0)\n",
    "# clf.fit(X, Y)\n",
    "\n",
    "\n",
    "#####   Neural Network Model\n",
    "# from sklearn.neural_network import MLPRegressor\n",
    "# clf = MLPRegressor(\n",
    "#     hidden_layer_sizes=(15,),  activation='relu', solver='lbfgs', alpha=0.001, batch_size='auto',\n",
    "#     learning_rate='constant', learning_rate_init=0.01, power_t=0.5, max_iter=1000, shuffle=True,\n",
    "#     random_state=9, tol=0.0001, verbose=False, warm_start=False, momentum=0.9, nesterovs_momentum=True,\n",
    "#     early_stopping=False, validation_fraction=0.1, beta_1=0.9, beta_2=0.999, epsilon=1e-08).fit(X, Y)\n",
    "\n",
    "#### Decision Tree Model\n",
    "# from sklearn import tree\n",
    "# clf = tree.DecisionTreeRegressor().fit(X, Y)\n",
    "\n",
    "# ##Logistic Regression Model (slow)\n",
    "# from sklearn.linear_model import LogisticRegression\n",
    "# clf = LogisticRegression(random_state=0, solver='newton-cg',\n",
    "#                           multi_class='multinomial').fit(X, Y)\n",
    "\n",
    "##### Random Forest Classifier Model\n",
    "from sklearn.ensemble import RandomForestRegressor\n",
    "clf = RandomForestRegressor(n_estimators = 100,random_state=0).fit(X, Y)\n"
   ]
  },
  {
   "cell_type": "code",
   "execution_count": 40,
   "metadata": {},
   "outputs": [],
   "source": [
    "Y_pred = clf.predict(ML_input_predX)"
   ]
  },
  {
   "cell_type": "code",
   "execution_count": 41,
   "metadata": {},
   "outputs": [
    {
     "name": "stderr",
     "output_type": "stream",
     "text": [
      "/usr/local/lib/python2.7/dist-packages/ipykernel_launcher.py:2: SettingWithCopyWarning: \n",
      "A value is trying to be set on a copy of a slice from a DataFrame.\n",
      "Try using .loc[row_indexer,col_indexer] = value instead\n",
      "\n",
      "See the caveats in the documentation: http://pandas.pydata.org/pandas-docs/stable/indexing.html#indexing-view-versus-copy\n",
      "  \n"
     ]
    }
   ],
   "source": [
    "# ML_input_pred[\"pred\"] = np.exp(Y_pred+1)\n",
    "ML_input_pred[\"pred\"] = Y_pred"
   ]
  },
  {
   "cell_type": "code",
   "execution_count": 42,
   "metadata": {},
   "outputs": [],
   "source": [
    "# Outputs"
   ]
  },
  {
   "cell_type": "code",
   "execution_count": 43,
   "metadata": {},
   "outputs": [],
   "source": [
    "Outputs = ML_input_pred[[\"gvkey\",\"filed_year\",\"cat_code\",\"pred\"]]"
   ]
  },
  {
   "cell_type": "code",
   "execution_count": 44,
   "metadata": {},
   "outputs": [],
   "source": [
    "# Outputs.to_csv(\"cites_pred5.csv\", index=False)"
   ]
  },
  {
   "cell_type": "code",
   "execution_count": 45,
   "metadata": {},
   "outputs": [],
   "source": [
    "Outputs_agg = Outputs[[\"gvkey\",\"filed_year\",\"pred\"]].groupby([\"gvkey\",\"filed_year\"], as_index=False).sum()"
   ]
  },
  {
   "cell_type": "code",
   "execution_count": 46,
   "metadata": {
    "scrolled": true
   },
   "outputs": [],
   "source": [
    "Outputs_agg.loc[Outputs_agg.pred<0, \"pred\"]=0"
   ]
  },
  {
   "cell_type": "code",
   "execution_count": 47,
   "metadata": {},
   "outputs": [],
   "source": [
    "# Now we prepare the comparing dataset (NBER 2006 and our data).\n",
    "FirmN_cites_agg = pd.read_csv(\"temp/FirmN_cites_agg_tenYear.csv\")\n",
    "FirmO_cites_agg = pd.read_csv(\"temp/FirmO_cites_agg_tenYear.csv\")\n",
    "\n",
    "\n",
    "FirmN_cites_agg[\"gvkey\"] = FirmN_cites_agg[\"gvkey\"].astype(int)\n",
    "FirmN_cites_agg[\"filed_year\"] = FirmN_cites_agg[\"filed_year\"].astype(int)\n",
    "FirmO_cites_agg[\"gvkey\"] = FirmO_cites_agg[\"gvkey\"].astype(int)\n",
    "FirmO_cites_agg[\"filed_year\"] = FirmO_cites_agg[\"filed_year\"].astype(int)"
   ]
  },
  {
   "cell_type": "code",
   "execution_count": 48,
   "metadata": {},
   "outputs": [],
   "source": [
    "Comp_final = pd.merge(Outputs_agg, FirmO_cites_agg, how=\"left\", on=[\"gvkey\",\"filed_year\"]).fillna(0)\n",
    "Comp_final = pd.merge(Comp_final, FirmN_cites_agg, how=\"left\", on=[\"gvkey\",\"filed_year\"]).fillna(0)"
   ]
  },
  {
   "cell_type": "code",
   "execution_count": 49,
   "metadata": {},
   "outputs": [
    {
     "name": "stdout",
     "output_type": "stream",
     "text": [
      "    gvkey  filed_year         pred  citing_x  citing_y\n",
      "0    1004        1993    19.109047      12.0      12.0\n",
      "1    1004        1994     5.586667       8.0       8.0\n",
      "2    1004        1995     0.000000       0.0       0.0\n",
      "3    1004        1996     0.000000       0.0       0.0\n",
      "4    1004        1997     4.660000       8.0       5.0\n",
      "5    1004        1998     0.000000       0.0       0.0\n",
      "6    1004        1999     0.000000       0.0       0.0\n",
      "7    1004        2000     0.000000       0.0       0.0\n",
      "8    1004        2001     9.073174       5.0       2.0\n",
      "9    1004        2002     7.332202       0.0       0.0\n",
      "10   1013        1993   345.550000     536.0     510.0\n",
      "11   1013        1994   376.280000     392.0     307.0\n",
      "12   1013        1995   187.820000     289.0     211.0\n",
      "13   1013        1996   261.990000     585.0     289.0\n",
      "14   1013        1997   558.080000     882.0     454.0\n",
      "15   1013        1998   806.970000    1113.0     407.0\n",
      "16   1013        1999  1056.461889    1761.0     449.0\n",
      "17   1013        2000  1399.443333    1589.0     278.0\n",
      "18   1013        2001  2697.278214    1290.0     201.0\n",
      "19   1013        2002  2449.073333    1104.0     119.0\n"
     ]
    }
   ],
   "source": [
    "print Comp_final.head(20)"
   ]
  },
  {
   "cell_type": "code",
   "execution_count": 50,
   "metadata": {},
   "outputs": [
    {
     "name": "stdout",
     "output_type": "stream",
     "text": [
      "1.05232697828\n",
      "1.12012714341\n",
      "1.20907801839\n",
      "1.32595707412\n",
      "1.47882540075\n",
      "1.67870834625\n",
      "1.94773955382\n",
      "2.32695030745\n",
      "2.90377709516\n",
      "3.86763061741\n"
     ]
    },
    {
     "name": "stderr",
     "output_type": "stream",
     "text": [
      "/usr/local/lib/python2.7/dist-packages/ipykernel_launcher.py:15: DeprecationWarning: \n",
      ".ix is deprecated. Please use\n",
      ".loc for label based indexing or\n",
      ".iloc for positional indexing\n",
      "\n",
      "See the documentation here:\n",
      "http://pandas.pydata.org/pandas-docs/stable/indexing.html#ix-indexer-is-deprecated\n",
      "  from ipykernel import kernelapp as app\n",
      "/usr/local/lib/python2.7/dist-packages/ipykernel_launcher.py:17: DeprecationWarning: \n",
      ".ix is deprecated. Please use\n",
      ".loc for label based indexing or\n",
      ".iloc for positional indexing\n",
      "\n",
      "See the documentation here:\n",
      "http://pandas.pydata.org/pandas-docs/stable/indexing.html#ix-indexer-is-deprecated\n",
      "/usr/local/lib/python2.7/dist-packages/ipykernel_launcher.py:19: DeprecationWarning: \n",
      ".ix is deprecated. Please use\n",
      ".loc for label based indexing or\n",
      ".iloc for positional indexing\n",
      "\n",
      "See the documentation here:\n",
      "http://pandas.pydata.org/pandas-docs/stable/indexing.html#ix-indexer-is-deprecated\n",
      "/usr/local/lib/python2.7/dist-packages/ipykernel_launcher.py:21: DeprecationWarning: \n",
      ".ix is deprecated. Please use\n",
      ".loc for label based indexing or\n",
      ".iloc for positional indexing\n",
      "\n",
      "See the documentation here:\n",
      "http://pandas.pydata.org/pandas-docs/stable/indexing.html#ix-indexer-is-deprecated\n",
      "/usr/local/lib/python2.7/dist-packages/ipykernel_launcher.py:23: DeprecationWarning: \n",
      ".ix is deprecated. Please use\n",
      ".loc for label based indexing or\n",
      ".iloc for positional indexing\n",
      "\n",
      "See the documentation here:\n",
      "http://pandas.pydata.org/pandas-docs/stable/indexing.html#ix-indexer-is-deprecated\n",
      "/usr/local/lib/python2.7/dist-packages/ipykernel_launcher.py:25: DeprecationWarning: \n",
      ".ix is deprecated. Please use\n",
      ".loc for label based indexing or\n",
      ".iloc for positional indexing\n",
      "\n",
      "See the documentation here:\n",
      "http://pandas.pydata.org/pandas-docs/stable/indexing.html#ix-indexer-is-deprecated\n",
      "/usr/local/lib/python2.7/dist-packages/ipykernel_launcher.py:27: DeprecationWarning: \n",
      ".ix is deprecated. Please use\n",
      ".loc for label based indexing or\n",
      ".iloc for positional indexing\n",
      "\n",
      "See the documentation here:\n",
      "http://pandas.pydata.org/pandas-docs/stable/indexing.html#ix-indexer-is-deprecated\n",
      "/usr/local/lib/python2.7/dist-packages/ipykernel_launcher.py:29: DeprecationWarning: \n",
      ".ix is deprecated. Please use\n",
      ".loc for label based indexing or\n",
      ".iloc for positional indexing\n",
      "\n",
      "See the documentation here:\n",
      "http://pandas.pydata.org/pandas-docs/stable/indexing.html#ix-indexer-is-deprecated\n",
      "/usr/local/lib/python2.7/dist-packages/ipykernel_launcher.py:31: DeprecationWarning: \n",
      ".ix is deprecated. Please use\n",
      ".loc for label based indexing or\n",
      ".iloc for positional indexing\n",
      "\n",
      "See the documentation here:\n",
      "http://pandas.pydata.org/pandas-docs/stable/indexing.html#ix-indexer-is-deprecated\n",
      "/usr/local/lib/python2.7/dist-packages/ipykernel_launcher.py:33: DeprecationWarning: \n",
      ".ix is deprecated. Please use\n",
      ".loc for label based indexing or\n",
      ".iloc for positional indexing\n",
      "\n",
      "See the documentation here:\n",
      "http://pandas.pydata.org/pandas-docs/stable/indexing.html#ix-indexer-is-deprecated\n"
     ]
    },
    {
     "name": "stdout",
     "output_type": "stream",
     "text": [
      "    gvkey  filed_year         pred  citing_x  citing_y    citing_z\n",
      "0    1004        1993    19.109047      12.0      12.0   12.627924\n",
      "1    1004        1994     5.586667       8.0       8.0    8.961017\n",
      "2    1004        1995     0.000000       0.0       0.0    0.000000\n",
      "3    1004        1996     0.000000       0.0       0.0    0.000000\n",
      "4    1004        1997     4.660000       8.0       5.0    7.394127\n",
      "5    1004        1998     0.000000       0.0       0.0    0.000000\n",
      "6    1004        1999     0.000000       0.0       0.0    0.000000\n",
      "7    1004        2000     0.000000       0.0       0.0    0.000000\n",
      "8    1004        2001     9.073174       5.0       2.0    5.807554\n",
      "9    1004        2002     7.332202       0.0       0.0    0.000000\n",
      "10   1013        1993   345.550000     536.0     510.0  536.686759\n",
      "11   1013        1994   376.280000     392.0     307.0  343.879033\n",
      "12   1013        1995   187.820000     289.0     211.0  255.115462\n",
      "13   1013        1996   261.990000     585.0     289.0  383.201594\n",
      "14   1013        1997   558.080000     882.0     454.0  671.386732\n",
      "15   1013        1998   806.970000    1113.0     407.0  683.234297\n",
      "16   1013        1999  1056.461889    1761.0     449.0  874.535060\n",
      "17   1013        2000  1399.443333    1589.0     278.0  646.892185\n",
      "18   1013        2001  2697.278214    1290.0     201.0  583.659196\n",
      "19   1013        2002  2449.073333    1104.0     119.0  460.248043\n"
     ]
    }
   ],
   "source": [
    "print Year1993Ratio\n",
    "print Year1994Ratio\n",
    "print Year1995Ratio\n",
    "print Year1996Ratio\n",
    "print Year1997Ratio\n",
    "print Year1998Ratio\n",
    "print Year1999Ratio\n",
    "print Year2000Ratio\n",
    "print Year2001Ratio\n",
    "print Year2002Ratio\n",
    "\n",
    "for index, row in Comp_final.iterrows():\n",
    "\n",
    "    if row['filed_year'] == 1993:\n",
    "        Comp_final.ix[index, 'citing_z'] = row['citing_y'] * Year1993Ratio\n",
    "    elif row['filed_year'] == 1994:\n",
    "        Comp_final.ix[index, 'citing_z'] = row['citing_y'] * Year1994Ratio\n",
    "    elif row['filed_year'] == 1995:\n",
    "        Comp_final.ix[index, 'citing_z'] = row['citing_y'] * Year1995Ratio\n",
    "    elif row['filed_year'] == 1996:\n",
    "        Comp_final.ix[index, 'citing_z'] = row['citing_y'] * Year1996Ratio\n",
    "    elif row['filed_year'] == 1997:\n",
    "        Comp_final.ix[index, 'citing_z'] = row['citing_y'] * Year1997Ratio\n",
    "    elif row['filed_year'] == 1998:\n",
    "        Comp_final.ix[index, 'citing_z'] = row['citing_y'] * Year1998Ratio\n",
    "    elif row['filed_year'] == 1999:\n",
    "        Comp_final.ix[index, 'citing_z'] = row['citing_y'] * Year1999Ratio\n",
    "    elif row['filed_year'] == 2000:\n",
    "        Comp_final.ix[index, 'citing_z'] = row['citing_y'] * Year2000Ratio\n",
    "    elif row['filed_year'] == 2001:\n",
    "        Comp_final.ix[index, 'citing_z'] = row['citing_y'] * Year2001Ratio\n",
    "    elif row['filed_year'] == 2002:\n",
    "        Comp_final.ix[index, 'citing_z'] = row['citing_y'] * Year2002Ratio\n",
    "    else:\n",
    "        print \"Something must wrong!!!\"\n",
    "\n",
    "print Comp_final.head(20)"
   ]
  },
  {
   "cell_type": "code",
   "execution_count": 51,
   "metadata": {},
   "outputs": [],
   "source": [
    "Comp_final['citing_Yuan'] = Comp_final[['pred','citing_z']].max(axis=1)"
   ]
  },
  {
   "cell_type": "code",
   "execution_count": 52,
   "metadata": {
    "scrolled": true
   },
   "outputs": [
    {
     "name": "stdout",
     "output_type": "stream",
     "text": [
      "Prediction correlation: \n",
      "0.889599260050297\n",
      "NBER 2006 correlation: \n",
      "0.9003195118472921\n",
      "NBER 2006 adjusted correlation: \n",
      "0.9597854940237759\n",
      "Yuan correlation: \n",
      "0.9357798314900871\n",
      "--------------------------------------------------------------------\n",
      "Prediction RMSE: \n",
      "973.9609845189086\n",
      "NBER 2006 RMSE: \n",
      "1266.4345817864776\n",
      "NBER 2006 adjusted RMSE: \n",
      "818.1442227952533\n",
      "Yuan RMSE: \n",
      "745.3527762647285\n",
      "--------------------------------------------------------------------\n",
      "Prediction MAE: \n",
      "161.90620021876717\n",
      "NBER 2006 MAE: \n",
      "195.9000553097345\n",
      "NBER 2006 adjusted MAE: \n",
      "127.65450918265608\n",
      "Yuan MAE: \n",
      "131.54322511952955\n",
      "--------------------------------------------------------------------\n",
      "Prediction R sqaured: \n",
      "0.6828491971850463\n",
      "NBER 2006 R sqaured: \n",
      "-0.4654414642431077\n",
      "NBER 2006 adjusted R sqaured: \n",
      "0.6909739851033854\n",
      "Yuan R sqaured: \n",
      "0.8481592945279656\n",
      "--------------------------------------------------------------------\n"
     ]
    }
   ],
   "source": [
    "####Compare them by correlation, RMSE, MAE and R squared.\n",
    "\n",
    "print \"Prediction correlation: \" \n",
    "print Comp_final[\"pred\"].corr(Comp_final[\"citing_x\"],method='pearson')\n",
    "print \"NBER 2006 correlation: \"\n",
    "print Comp_final[\"citing_y\"].corr(Comp_final[\"citing_x\"],method='pearson')\n",
    "print \"NBER 2006 adjusted correlation: \"\n",
    "print Comp_final[\"citing_z\"].corr(Comp_final[\"citing_x\"],method='pearson')\n",
    "print \"Yuan correlation: \"\n",
    "print Comp_final[\"citing_Yuan\"].corr(Comp_final[\"citing_x\"],method='pearson')\n",
    "print \"--------------------------------------------------------------------\"\n",
    "\n",
    "from sklearn.metrics import mean_squared_error\n",
    "print \"Prediction RMSE: \"\n",
    "print np.sqrt(mean_squared_error(Comp_final[\"pred\"].values, Comp_final[\"citing_x\"].values))\n",
    "print \"NBER 2006 RMSE: \"\n",
    "print np.sqrt(mean_squared_error(Comp_final[\"citing_y\"].values,Comp_final[\"citing_x\"].values))\n",
    "print \"NBER 2006 adjusted RMSE: \"\n",
    "print np.sqrt(mean_squared_error(Comp_final[\"citing_z\"].values,Comp_final[\"citing_x\"].values))\n",
    "print \"Yuan RMSE: \"\n",
    "print np.sqrt(mean_squared_error(Comp_final[\"citing_Yuan\"].values,Comp_final[\"citing_x\"].values))\n",
    "print \"--------------------------------------------------------------------\"\n",
    "\n",
    "from sklearn.metrics import mean_absolute_error\n",
    "print \"Prediction MAE: \"\n",
    "print mean_absolute_error(Comp_final[\"pred\"].values, Comp_final[\"citing_x\"].values)\n",
    "print \"NBER 2006 MAE: \"\n",
    "print mean_absolute_error(Comp_final[\"citing_y\"].values, Comp_final[\"citing_x\"].values)\n",
    "print \"NBER 2006 adjusted MAE: \"\n",
    "print mean_absolute_error(Comp_final[\"citing_z\"].values, Comp_final[\"citing_x\"].values)\n",
    "print \"Yuan MAE: \"\n",
    "print mean_absolute_error(Comp_final[\"citing_Yuan\"].values, Comp_final[\"citing_x\"].values)\n",
    "print \"--------------------------------------------------------------------\"\n",
    "\n",
    "\n",
    "\n",
    "from sklearn.metrics import r2_score\n",
    "print \"Prediction R sqaured: \"\n",
    "print r2_score(Comp_final[\"pred\"].values, Comp_final[\"citing_x\"].values)\n",
    "print \"NBER 2006 R sqaured: \"\n",
    "print r2_score(Comp_final[\"citing_y\"].values, Comp_final[\"citing_x\"].values)\n",
    "print \"NBER 2006 adjusted R sqaured: \"\n",
    "print r2_score(Comp_final[\"citing_z\"].values, Comp_final[\"citing_x\"].values)\n",
    "print \"Yuan R sqaured: \"\n",
    "print r2_score(Comp_final[\"citing_Yuan\"].values, Comp_final[\"citing_x\"].values)\n",
    "print \"--------------------------------------------------------------------\""
   ]
  },
  {
   "cell_type": "code",
   "execution_count": 53,
   "metadata": {},
   "outputs": [],
   "source": [
    "## For the plotting\n",
    "Outputs_agg.columns = [\"gvkey\",\"filed_year\",\"citing\"]\n",
    "Outputs_aggs = Outputs_agg.append(FirmN_cites_agg[FirmN_cites_agg.filed_year<1993])"
   ]
  },
  {
   "cell_type": "code",
   "execution_count": 54,
   "metadata": {},
   "outputs": [],
   "source": [
    "comp_plots = pd.merge(Outputs_aggs, FirmN_cites_agg, how=\"left\", on=[\"gvkey\",\"filed_year\"]).fillna(0)\n",
    "comp_plots = pd.merge(comp_plots, FirmO_cites_agg, how=\"left\", on=[\"gvkey\",\"filed_year\"]).fillna(0)"
   ]
  },
  {
   "cell_type": "code",
   "execution_count": 55,
   "metadata": {},
   "outputs": [],
   "source": [
    "comp_plots_agg = comp_plots[comp_plots.filed_year>=1976][[\"filed_year\",\"citing_x\",\"citing_y\",\"citing\"]].groupby(\"filed_year\", as_index=False).sum()"
   ]
  },
  {
   "cell_type": "code",
   "execution_count": 56,
   "metadata": {},
   "outputs": [],
   "source": [
    "comp_plots_agg[\"bias_pred\"] = comp_plots_agg.citing - comp_plots_agg.citing_x\n",
    "comp_plots_agg[\"bias_NBER\"] = comp_plots_agg.citing - comp_plots_agg.citing_y"
   ]
  },
  {
   "cell_type": "code",
   "execution_count": 57,
   "metadata": {},
   "outputs": [
    {
     "data": {
      "image/png": "[encoded data removed]",
      "text/plain": [
       "<Figure size 576x432 with 1 Axes>"
      ]
     },
     "metadata": {
      "needs_background": "light"
     },
     "output_type": "display_data"
    }
   ],
   "source": [
    "comp_plots_agg[[\"filed_year\",\"bias_pred\",\"bias_NBER\"]].plot(x=\"filed_year\", figsize=[8,6])\n",
    "plt.legend([\"Bias for Predicted Citation within 10 years\", \"Bias for NBER2006 Citation within 10 years\"]);\n",
    "plt.xlabel(\"Our Data Citation Number\")\n",
    "plt.title(\"Bias for Citation within 10 years for Granted Patents after Application\")\n",
    "savefig('ts_Pred_Our_Compare_cites10(V1).png')\n",
    "plt.show()"
   ]
  }
 ],
 "metadata": {
  "kernelspec": {
   "display_name": "Python 2",
   "language": "python",
   "name": "python2"
  },
  "language_info": {
   "codemirror_mode": {
    "name": "ipython",
    "version": 2
   },
   "file_extension": ".py",
   "mimetype": "text/x-python",
   "name": "python",
   "nbconvert_exporter": "python",
   "pygments_lexer": "ipython2",
   "version": "2.7.12"
  }
 },
 "nbformat": 4,
 "nbformat_minor": 1
}
