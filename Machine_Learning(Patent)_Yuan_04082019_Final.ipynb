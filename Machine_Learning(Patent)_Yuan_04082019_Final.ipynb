{
 "cells": [
  {
   "cell_type": "code",
   "execution_count": 1,
   "metadata": {},
   "outputs": [],
   "source": [
    "# Import libraries needed in this research\n",
    "import pandas as pd\n",
    "import numpy as np\n",
    "from sklearn.svm import LinearSVR\n",
    "from sklearn.linear_model import LinearRegression\n",
    "\n",
    "import matplotlib\n",
    "import matplotlib.pyplot as plt\n",
    "%matplotlib inline  \n",
    "\n",
    "from sklearn.model_selection import GridSearchCV\n",
    "import matplotlib.pyplot as plt\n",
    "from pylab import figure, axes, pie, title, savefig"
   ]
  },
  {
   "cell_type": "code",
   "execution_count": 2,
   "metadata": {},
   "outputs": [],
   "source": [
    "# cross validations to find the ideal parameter for C and epsilon. \n",
    "def svc_param_selection(X, y, nfolds):\n",
    "    Cs = [0.001, 0.01, 0.1, 1, 10]\n",
    "    epsilons = [0.001, 0.01, 0.1, 1]\n",
    "    param_grid = {'C': Cs, 'epsilon' : epsilons}\n",
    "    grid_search = GridSearchCV(LinearSVR(fit_intercept=False), param_grid, cv=nfolds)\n",
    "    grid_search.fit(X, y)\n",
    "    grid_search.best_params_\n",
    "    return grid_search.best_params_"
   ]
  },
  {
   "cell_type": "code",
   "execution_count": 3,
   "metadata": {},
   "outputs": [],
   "source": [
    "# Read NBER(2006) patent data \n",
    "FirmInfo     = pd.read_stata(\"nber data/NBER_US_public_firm_assignee.dta\")\n",
    "ClassInfo    = pd.read_stata(\"nber data/3930271_8341762_class.dta\")\n",
    "YearInfo     = pd.read_stata(\"nber data/3930271_7155745_date.dta\")"
   ]
  },
  {
   "cell_type": "code",
   "execution_count": 4,
   "metadata": {},
   "outputs": [],
   "source": [
    "# Merge FirmInfo and ClassInfo, on WKU.\n",
    "FirmInfo_class = pd.merge(FirmInfo, ClassInfo[[\"wku\",\"cat_code\"]], how=\"left\", on=\"wku\")\n",
    "#FirmInfo_class.head(20)"
   ]
  },
  {
   "cell_type": "code",
   "execution_count": 5,
   "metadata": {},
   "outputs": [],
   "source": [
    "# Group FirmInfo on gvkey, filed_year and cat_code. The counts are stored into the wku. \n",
    "FirmInfo_class_agg = FirmInfo_class[[\"gvkey\",\"filed_year\",\"cat_code\",\"wku\"]].groupby([\"gvkey\",\"filed_year\",\"cat_code\"], as_index=False).count()\n",
    "#FirmInfo_class_agg.head(20)"
   ]
  },
  {
   "cell_type": "code",
   "execution_count": 6,
   "metadata": {},
   "outputs": [],
   "source": [
    "# create a mapper for the preparation of expanding the dataset into a dataset with all six categories in each year.\n",
    "Mapper = [[k, i, j] for k in FirmInfo_class_agg.gvkey.unique() for i in range(1976, 2007) for j in range(1,7)]\n",
    "Mapper = pd.DataFrame(Mapper, columns = [\"gvkey\", \"filed_year\",\"cat_code\"])"
   ]
  },
  {
   "cell_type": "code",
   "execution_count": 7,
   "metadata": {},
   "outputs": [],
   "source": [
    "# Change the data type of the mapper as int\n",
    "Mapper.filed_year = Mapper.filed_year.astype(int)\n",
    "Mapper.cat_code = Mapper.cat_code.astype(int)\n",
    "Mapper.gvkey = Mapper.gvkey.astype(int)\n",
    "#Mapper.head(10)"
   ]
  },
  {
   "cell_type": "code",
   "execution_count": 8,
   "metadata": {},
   "outputs": [],
   "source": [
    "# Change the data type of the FirmInfo_class_agg as int\n",
    "FirmInfo_class_agg.gvkey = FirmInfo_class_agg.gvkey.astype(int)\n",
    "FirmInfo_class_agg.filed_year = FirmInfo_class_agg.filed_year.astype(int)\n",
    "FirmInfo_class_agg.cat_code = FirmInfo_class_agg.cat_code.astype(int)\n",
    "FirmInfo_class_agg.wku = FirmInfo_class_agg.wku.astype(int)"
   ]
  },
  {
   "cell_type": "code",
   "execution_count": 9,
   "metadata": {
    "scrolled": true
   },
   "outputs": [],
   "source": [
    "# Merge FirmInfo_class_agg and Mapper, on gvkey, filed_year, cat_code. If there is any NULL value, filled it with zero.\n",
    "FirmInfo_class_agg_full = pd.merge(Mapper, FirmInfo_class_agg, how=\"left\", on=[\"gvkey\",\"filed_year\",\"cat_code\"]).fillna(0)\n"
   ]
  },
  {
   "cell_type": "code",
   "execution_count": 10,
   "metadata": {},
   "outputs": [],
   "source": [
    "# Sort the values in FirmInfo_class_agg_full ascendingly\n",
    "FirmInfo_class_agg_full = FirmInfo_class_agg_full.sort_values([\"gvkey\",\"cat_code\",\"filed_year\"])\n",
    "#FirmInfo_class_agg_full.head(10)"
   ]
  },
  {
   "cell_type": "code",
   "execution_count": 11,
   "metadata": {},
   "outputs": [],
   "source": [
    "# FirmInfo_class_agg_full[\"wku\"] = np.log(FirmInfo_class_agg_full[\"wku\"]+1)"
   ]
  },
  {
   "cell_type": "code",
   "execution_count": 12,
   "metadata": {},
   "outputs": [],
   "source": [
    "# Create 8 lag variable for file year/class/patent id/firm id. It is a shifting technique.\n",
    "for i in range(1,8):\n",
    "    FirmInfo_class_agg_full[\"filed_year_\"+str(i)] = FirmInfo_class_agg_full[\"filed_year\"].shift(i)\n",
    "    FirmInfo_class_agg_full[\"cat_code_\"+str(i)] = FirmInfo_class_agg_full[\"cat_code\"].shift(i)\n",
    "    FirmInfo_class_agg_full[\"wku_\"+str(i)] = FirmInfo_class_agg_full[\"wku\"].shift(i)\n",
    "    FirmInfo_class_agg_full[\"gvkey_\"+str(i)] = FirmInfo_class_agg_full[\"gvkey\"].shift(i)\n",
    "#FirmInfo_class_agg_full.head(30)"
   ]
  },
  {
   "cell_type": "code",
   "execution_count": 13,
   "metadata": {},
   "outputs": [],
   "source": [
    "# The and operation applied here is tring to make sure each record/row have no Nah values,\n",
    "# which means to make sure the input feature matrix for the later prediction has no Nahs.\n",
    "FirmInfo_class_agg_full_save_for_update = FirmInfo_class_agg_full\n",
    "FirmInfo_class_agg_full = FirmInfo_class_agg_full[(FirmInfo_class_agg_full.gvkey==FirmInfo_class_agg_full.gvkey_1)& \\\n",
    "                                                  (FirmInfo_class_agg_full.gvkey==FirmInfo_class_agg_full.gvkey_2)& \\\n",
    "                                                  (FirmInfo_class_agg_full.gvkey==FirmInfo_class_agg_full.gvkey_3)& \\\n",
    "                                                  (FirmInfo_class_agg_full.gvkey==FirmInfo_class_agg_full.gvkey_4)& \\\n",
    "                                                  (FirmInfo_class_agg_full.gvkey==FirmInfo_class_agg_full.gvkey_5)& \\\n",
    "                                                  (FirmInfo_class_agg_full.gvkey==FirmInfo_class_agg_full.gvkey_6)& \\\n",
    "                                                  (FirmInfo_class_agg_full.gvkey==FirmInfo_class_agg_full.gvkey_7)& \\\n",
    "                                                  (FirmInfo_class_agg_full.cat_code==FirmInfo_class_agg_full.cat_code_1)& \\\n",
    "                                                  (FirmInfo_class_agg_full.cat_code==FirmInfo_class_agg_full.cat_code_2)& \\\n",
    "                                                  (FirmInfo_class_agg_full.cat_code==FirmInfo_class_agg_full.cat_code_3)& \\\n",
    "                                                  (FirmInfo_class_agg_full.cat_code==FirmInfo_class_agg_full.cat_code_4)& \\\n",
    "                                                  (FirmInfo_class_agg_full.cat_code==FirmInfo_class_agg_full.cat_code_5)& \\\n",
    "                                                  (FirmInfo_class_agg_full.cat_code==FirmInfo_class_agg_full.cat_code_6)& \\\n",
    "                                                  (FirmInfo_class_agg_full.cat_code==FirmInfo_class_agg_full.cat_code_7)& \\\n",
    "                                                  (FirmInfo_class_agg_full.filed_year==FirmInfo_class_agg_full.filed_year_1+1)& \\\n",
    "                                                  (FirmInfo_class_agg_full.filed_year==FirmInfo_class_agg_full.filed_year_2+2)& \\\n",
    "                                                  (FirmInfo_class_agg_full.filed_year==FirmInfo_class_agg_full.filed_year_3+3)& \\\n",
    "                                                  (FirmInfo_class_agg_full.filed_year==FirmInfo_class_agg_full.filed_year_4+4)& \\\n",
    "                                                  (FirmInfo_class_agg_full.filed_year==FirmInfo_class_agg_full.filed_year_5+5)& \\\n",
    "                                                  (FirmInfo_class_agg_full.filed_year==FirmInfo_class_agg_full.filed_year_6+6)& \\\n",
    "                                                  (FirmInfo_class_agg_full.filed_year==FirmInfo_class_agg_full.filed_year_7+7)]\n",
    "\n",
    "\n",
    "#FirmInfo_class_agg_full.head(10)"
   ]
  },
  {
   "cell_type": "code",
   "execution_count": 14,
   "metadata": {},
   "outputs": [],
   "source": [
    "# we only use the former six year's wku information. Here we select them.\n",
    "FirmInfo_class_agg_full_clean1=FirmInfo_class_agg_full[[\"gvkey\",\"filed_year\",\"cat_code\",\"wku\",\"wku_1\",\"wku_2\",\"wku_3\",\"wku_4\",\"wku_5\",\"wku_6\"]]\n",
    "#FirmInfo_class_agg_full_clean1.head(10)"
   ]
  },
  {
   "cell_type": "code",
   "execution_count": 15,
   "metadata": {},
   "outputs": [],
   "source": [
    "# FirmInfo_class_agg_full_clean1.to_csv(\"Patent_ML_Inputs.csv\", index=False)"
   ]
  },
  {
   "cell_type": "code",
   "execution_count": 16,
   "metadata": {},
   "outputs": [],
   "source": [
    "# create a six column feature matrix in cat_code. This step is used to transform the cat_code.\n",
    "DummyClass = pd.get_dummies(FirmInfo_class_agg_full_clean1.cat_code)\n",
    "#DummyClass.head(40)"
   ]
  },
  {
   "cell_type": "code",
   "execution_count": 17,
   "metadata": {},
   "outputs": [],
   "source": [
    "# construct the clean input feature matrix with \"six year's wku\" FirmInfo_class_agg_full_clean1 and\n",
    "# six category code.\n",
    "FirmInfo_class_agg_full_clean1 = pd.concat([FirmInfo_class_agg_full_clean1, DummyClass], axis=1)\n",
    "#FirmInfo_class_agg_full_clean1.head(40)"
   ]
  },
  {
   "cell_type": "code",
   "execution_count": 18,
   "metadata": {},
   "outputs": [],
   "source": [
    "FirmInfo_class_agg_full_clean1.columns=[     u'gvkey', u'filed_year',   u'cat_code',        u'wku',\n",
    "                                             u'wku_1',      u'wku_2',      u'wku_3',      u'wku_4',\n",
    "                                             u'wku_5',      u'wku_6',      'cat_code1',  'cat_code2',  'cat_code3',\n",
    "                                             'cat_code4',  'cat_code5',  'cat_code6']"
   ]
  },
  {
   "cell_type": "code",
   "execution_count": 19,
   "metadata": {},
   "outputs": [],
   "source": [
    "# Here we include additional features calculated by another source.\n",
    "#print FirmInfo_class_agg_full_clean1.shape\n",
    "AddionalFeatures = pd.read_csv(\"regressions/firm characters/TEMP1.csv\")\n",
    "AddionalFeatures.rename(columns={'year':'filed_year'}, inplace=True)\n",
    "#print AddionalFeatures.head(10)\n",
    "FirmInfo_class_agg_full_clean1 = pd.merge(FirmInfo_class_agg_full_clean1, AddionalFeatures, how=\"left\", on=[\"gvkey\",\"filed_year\"]).fillna(0)\n"
   ]
  },
  {
   "cell_type": "code",
   "execution_count": 20,
   "metadata": {},
   "outputs": [],
   "source": [
    "# Divide the input feature matrix before 2001 (trainning) and after 2001 (testing)\n",
    "syear = 2001\n",
    "FirmInfo_class_agg_full_clean1_test = FirmInfo_class_agg_full_clean1[FirmInfo_class_agg_full_clean1.filed_year<=syear]\n",
    "FirmInfo_class_agg_full_clean1_pred = FirmInfo_class_agg_full_clean1[FirmInfo_class_agg_full_clean1.filed_year>syear]\n"
   ]
  },
  {
   "cell_type": "code",
   "execution_count": 21,
   "metadata": {},
   "outputs": [
    {
     "name": "stderr",
     "output_type": "stream",
     "text": [
      "/home/yuansun/.local/lib/python2.7/site-packages/sklearn/utils/validation.py:761: DataConversionWarning: A column-vector y was passed when a 1d array was expected. Please change the shape of y to (n_samples, ), for example using ravel().\n",
      "  y = column_or_1d(y, warn=True)\n"
     ]
    },
    {
     "name": "stdout",
     "output_type": "stream",
     "text": [
      "[u'wku_1', u'wku_2', u'wku_3', u'wku_4', u'wku_5', u'wku_6', 'w_rd2sale', 'w_M2B', 'w_LOG_SIZE', 'w_spread']\n"
     ]
    }
   ],
   "source": [
    "\n",
    "###Uwith Additional features\n",
    "X = FirmInfo_class_agg_full_clean1_test[[u'wku_1',      u'wku_2',      u'wku_3',      u'wku_4',\n",
    "                                         u'wku_5',      u'wku_6',     'cat_code1',  'cat_code2',  'cat_code3',\n",
    "                                         'cat_code4',  'cat_code5',  'cat_code6',\"w_rd2sale\",\"w_M2B\",\"w_LOG_SIZE\",\"w_roa\",\"w_lev\",\"w_spread\",\"log_state_patents\",\"log_class_patents\"]].values\n",
    "Y = FirmInfo_class_agg_full_clean1_test[[\"wku\"]].values\n",
    "\n",
    "X_pred = FirmInfo_class_agg_full_clean1_pred[[u'wku_1',      u'wku_2',      u'wku_3',      u'wku_4',\n",
    "                                         u'wku_5',      u'wku_6', 'cat_code1',  'cat_code2',  'cat_code3',\n",
    "                                         'cat_code4',  'cat_code5',  'cat_code6',\"w_rd2sale\",\"w_M2B\",\"w_LOG_SIZE\",\"w_roa\",\"w_lev\",\"w_spread\",\"log_state_patents\",\"log_class_patents\"]].values\n",
    "X_ind  = FirmInfo_class_agg_full_clean1_pred[[\"gvkey\",\"filed_year\",\"cat_code\"]].values\n",
    "\n",
    "\n",
    "from sklearn.feature_selection import SelectKBest\n",
    "from sklearn.feature_selection import f_classif\n",
    "#SelectModel = SelectKBest(f_classif, k='all')\n",
    "SelectModel = SelectKBest(f_classif, k=10)\n",
    "X = SelectModel.fit_transform(X, Y)\n",
    "X_pred = SelectModel.transform(X_pred)\n",
    "\n",
    "##Get Selected Features\n",
    "feature_names = [u'wku_1',      u'wku_2',      u'wku_3',      u'wku_4',\n",
    "                                         u'wku_5',      u'wku_6', 'cat_code1',  'cat_code2',  'cat_code3',\n",
    "                                         'cat_code4',  'cat_code5',  'cat_code6',\"w_rd2sale\",\"w_M2B\",\"w_LOG_SIZE\",\"w_roa\",\"w_lev\",\"w_spread\",\"log_state_patents\",\"log_class_patents\"]\n",
    "mask = SelectModel.get_support() #list of booleans\n",
    "new_features = [] # The list of your K best features\n",
    "\n",
    "for bool, feature in zip(mask, feature_names):\n",
    "    if bool:\n",
    "        new_features.append(feature)\n",
    "print new_features"
   ]
  },
  {
   "cell_type": "code",
   "execution_count": 22,
   "metadata": {},
   "outputs": [],
   "source": [
    "\n",
    "# #####No additional features\n",
    "# X = FirmInfo_class_agg_full_clean1_test[[u'wku_1',      u'wku_2',      u'wku_3',      u'wku_4',\n",
    "#                                          u'wku_5',      u'wku_6',     'cat_code1',  'cat_code2',  'cat_code3',\n",
    "#                                          'cat_code4',  'cat_code5',  'cat_code6']].values\n",
    "# Y = FirmInfo_class_agg_full_clean1_test[[\"wku\"]].values\n",
    "\n",
    "# X_pred = FirmInfo_class_agg_full_clean1_pred[[u'wku_1',      u'wku_2',      u'wku_3',      u'wku_4',\n",
    "#                                          u'wku_5',      u'wku_6', 'cat_code1',  'cat_code2',  'cat_code3',\n",
    "#                                          'cat_code4',  'cat_code5',  'cat_code6']].values\n",
    "# X_ind  = FirmInfo_class_agg_full_clean1_pred[[\"gvkey\",\"filed_year\",\"cat_code\"]].values\n"
   ]
  },
  {
   "cell_type": "code",
   "execution_count": 23,
   "metadata": {},
   "outputs": [],
   "source": [
    "#svc_param_selection(X,Y,3)"
   ]
  },
  {
   "cell_type": "code",
   "execution_count": 24,
   "metadata": {},
   "outputs": [],
   "source": [
    "#print len(X_pred)"
   ]
  },
  {
   "cell_type": "code",
   "execution_count": 25,
   "metadata": {},
   "outputs": [
    {
     "name": "stderr",
     "output_type": "stream",
     "text": [
      "/home/yuansun/.local/lib/python2.7/site-packages/sklearn/svm/base.py:931: ConvergenceWarning: Liblinear failed to converge, increase the number of iterations.\n",
      "  \"the number of iterations.\", ConvergenceWarning)\n"
     ]
    },
    {
     "data": {
      "text/plain": [
       "LinearSVR(C=0.01, dual=True, epsilon=0.01, fit_intercept=True,\n",
       "     intercept_scaling=1.0, loss='epsilon_insensitive', max_iter=1000,\n",
       "     random_state=None, tol=0.0001, verbose=0)"
      ]
     },
     "execution_count": 25,
     "metadata": {},
     "output_type": "execute_result"
    }
   ],
   "source": [
    "## Linear SVM Model\n",
    "clf = LinearSVR(C = 0.01, epsilon=0.01)\n",
    "clf.fit(X, Y)\n",
    "\n",
    "### Lasso Model\n",
    "# from sklearn import linear_model\n",
    "# clf = linear_model.Lasso(alpha=0.1)\n",
    "# clf.fit(X, Y)\n",
    "\n",
    "### Ridge Model\n",
    "# from sklearn import linear_model\n",
    "# clf = linear_model.Ridge(alpha=1.0)\n",
    "# clf.fit(X, Y)\n",
    "\n",
    "\n",
    "# Neural Network Model\n",
    "# from sklearn.neural_network import MLPRegressor\n",
    "# clf = MLPRegressor(\n",
    "#     hidden_layer_sizes=(15,),  activation='relu', solver='lbfgs', alpha=0.001, batch_size='auto',\n",
    "#     learning_rate='constant', learning_rate_init=0.01, power_t=0.5, max_iter=1000, shuffle=True,\n",
    "#     random_state=9, tol=0.0001, verbose=False, warm_start=False, momentum=0.9, nesterovs_momentum=True,\n",
    "#     early_stopping=False, validation_fraction=0.1, beta_1=0.9, beta_2=0.999, epsilon=1e-08).fit(X, Y)\n",
    "\n",
    "##  Decision Tree Model\n",
    "# from sklearn import tree\n",
    "# clf = tree.DecisionTreeRegressor().fit(X, Y)\n",
    "\n",
    "# ##Logistic Regression Model (slow)\n",
    "# from sklearn.linear_model import LogisticRegression\n",
    "# clf = LogisticRegression(random_state=0, solver='newton-cg',\n",
    "#                           multi_class='multinomial').fit(X, Y)\n",
    "\n",
    "##Random Forest Classifier Model\n",
    "# from sklearn.ensemble import RandomForestRegressor\n",
    "# clf = RandomForestRegressor(n_estimators = 100,random_state=0).fit(X, Y)\n"
   ]
  },
  {
   "cell_type": "code",
   "execution_count": 26,
   "metadata": {},
   "outputs": [],
   "source": [
    "#### forward prediction propagation.\n",
    "#### The purpose of this step is to predict to patent number year by year. The key idea here\n",
    "### is to use predicted patent number as the input for the next year's patent number prediction.\n",
    "#### The commented area are leave behind on purpose. Uncommented them would help you understand\n",
    "#### this step.\n",
    "\n",
    "#X_pred = FirmInfo_class_agg_full_clean1_pred[[u'wku_1',      u'wku_2',      u'wku_3',      u'wku_4',\n",
    "#                                         u'wku_5',      u'wku_6', 'cat_code1',  'cat_code2',  'cat_code3',\n",
    "#                                         'cat_code4',  'cat_code5',  'cat_code6']].head(200).values\n",
    "\n",
    "\n",
    "firm = 1004\n",
    "year = syear\n",
    "cat_code = 1\n",
    "outputs = []\n",
    "\n",
    "for i in range(len(X_pred)):\n",
    "    #print (\"i:\", i)\n",
    "    #print(\"firm,year,cat_code before\", firm,year,cat_code)\n",
    "    #print (\"X_ind[i]\", X_ind[i],\"X_ind[i+1]\", X_ind[i+1])\n",
    "    #print (\"???X_pred[i]:\", X_pred[i],\"???X_pred[i+1]:\", X_pred[i+1])\n",
    "    #rY = svr_lin.predict([X_pred[i]])\n",
    "    rY = clf.predict([X_pred[i]])\n",
    "    \n",
    "    #print (\"rY:\", rY)\n",
    "    #print (\"!!!X_pred[i]:\", X_pred[i],\"!!!X_pred[i+1]:\", X_pred[i+1])\n",
    "    if (X_ind[i][0]==firm)&((X_ind[i][1]-year)==1)&(X_ind[i][2]==cat_code)&(X_ind[i][1]<2006):\n",
    "        update_list = list(X_pred[i])\n",
    "        update_list.insert(0, rY[0])\n",
    "        X_pred[i+1][0:6] = update_list[0:6]\n",
    "        #print \"I am in update\"\n",
    "    #else:\n",
    "        #print \"I am not in update\"\n",
    "    firm = X_ind[i][0]\n",
    "    year = X_ind[i][1]\n",
    "    cat_code = X_ind[i][2]\n",
    "    if (X_ind[i][1]==2006)&(i<len(X_pred)-1):\n",
    "        firm = X_ind[i+1][0]\n",
    "        year = syear\n",
    "        cat_code = X_ind[i+1][2]\n",
    "        #print \"I am in 2006, boundary, reset\"\n",
    "    else:\n",
    "        firm = X_ind[i][0]\n",
    "        year = X_ind[i][1]\n",
    "        cat_code = X_ind[i][2]\n",
    "        #print \"I am NOT in 2006, keep going\"\n",
    "    \n",
    "    outputs+=[[X_ind[i][0], X_ind[i][1], X_ind[i][2], rY[0]]]\n",
    "\n",
    "    #print (\"X_pred[i]:\", X_pred[i],\"X_pred[i+1]:\", X_pred[i+1])\n",
    "    #print (\"firm,year,cat_code after\", firm,year,cat_code)\n",
    "    #print (\"\")\n",
    "    #print (\"\")\n",
    "    #print (outputs)"
   ]
  },
  {
   "cell_type": "code",
   "execution_count": 27,
   "metadata": {},
   "outputs": [],
   "source": [
    "## sim contains the predictions. Here group the prediction by gvkey and year, and sum the predictions for all the classes.\n",
    "MLoutputs = pd.DataFrame(outputs, columns = [\"gvkey\",\"year\",\"class\",\"sim\"])\n",
    "#print MLoutputs.head(30)\n",
    "# MLoutputs[\"sim\"] = np.exp(MLoutputs.sim)-1\n",
    "MLoutputs_agg = MLoutputs[[\"gvkey\",\"year\",\"sim\"]].groupby([\"gvkey\",\"year\"], as_index=False).sum()\n",
    "#print MLoutputs_agg.head(30)"
   ]
  },
  {
   "cell_type": "code",
   "execution_count": 28,
   "metadata": {},
   "outputs": [],
   "source": [
    "MLoutputs_agg.to_csv(\"outputs3.csv\")"
   ]
  },
  {
   "cell_type": "code",
   "execution_count": 29,
   "metadata": {},
   "outputs": [],
   "source": [
    "# Now we prepare the comparing dataset (NBER 2006 and our data).\n",
    "Comp = pd.read_csv(\"outputs3.csv\")\n",
    "Full_data = pd.read_stata(\"regressions/construct bias/final_patent_citation_data.dta\")\n",
    "#print Full_data.head(10)"
   ]
  },
  {
   "cell_type": "code",
   "execution_count": 30,
   "metadata": {
    "scrolled": false
   },
   "outputs": [],
   "source": [
    "## number_of_patent_o means our data, while number_of_patent_n means NBER 2006 data\n",
    "Compare_res = pd.merge(MLoutputs_agg, Full_data[[\"gvkey\", \"year\", \"number_of_patent_o\", \"number_of_patent_n\"]], \n",
    "                       how=\"left\", on=[\"gvkey\",\"year\"]).fillna(0)\n",
    "#print Compare_res.head(10)"
   ]
  },
  {
   "cell_type": "code",
   "execution_count": 31,
   "metadata": {},
   "outputs": [],
   "source": [
    "## if sim (prediction) is less than zero, we assigned zero because the counts can not be negative.\n",
    "Compare_res.loc[Compare_res.sim<0,\"sim\"] = 0"
   ]
  },
  {
   "cell_type": "code",
   "execution_count": 32,
   "metadata": {
    "scrolled": true
   },
   "outputs": [],
   "source": [
    "# Now rename the final comparing results.\n",
    "Compare_res.columns=[u'gvkey', u'year', u'Predicted Patent Number', u'Our Data Patent Number',\n",
    "       u'NBER2006 Patent Number']\n",
    "#print Compare_res.head(10)"
   ]
  },
  {
   "cell_type": "code",
   "execution_count": 33,
   "metadata": {
    "scrolled": true
   },
   "outputs": [
    {
     "name": "stdout",
     "output_type": "stream",
     "text": [
      "Prediction correlation: \n",
      "0.898511455975691\n",
      "NBER 2006 correlation: \n",
      "0.727398276672166\n",
      "Prediction RMSE: \n",
      "66.28375025241905\n",
      "NBER 2006 RMSE: \n",
      "113.245384\n",
      "Prediction MAE: \n",
      "13.813768054247547\n",
      "NBER 2006 MAE: \n",
      "17.338997\n",
      "Prediction R sqaured: \n",
      "0.8061702639221766\n",
      "NBER 2006 R sqaured: \n",
      "0.43422042160665564\n"
     ]
    }
   ],
   "source": [
    "####Compare them by correlation, RMSE, MAE and R squared.\n",
    "print \"Prediction correlation: \"\n",
    "print Compare_res[\"Our Data Patent Number\"].corr(Compare_res[\"Predicted Patent Number\"])\n",
    "print \"NBER 2006 correlation: \"\n",
    "print Compare_res[\"Our Data Patent Number\"].corr(Compare_res[\"NBER2006 Patent Number\"])\n",
    "\n",
    "from sklearn.metrics import mean_squared_error\n",
    "print \"Prediction RMSE: \"\n",
    "print np.sqrt(mean_squared_error(Compare_res[\"Our Data Patent Number\"].values, Compare_res[\"Predicted Patent Number\"].values))\n",
    "print \"NBER 2006 RMSE: \"\n",
    "print np.sqrt(mean_squared_error(Compare_res[\"Our Data Patent Number\"].values, Compare_res[\"NBER2006 Patent Number\"].values))\n",
    "\n",
    "from sklearn.metrics import mean_absolute_error\n",
    "print \"Prediction MAE: \"\n",
    "print mean_absolute_error(Compare_res[\"Our Data Patent Number\"].values, Compare_res[\"Predicted Patent Number\"].values)\n",
    "print \"NBER 2006 MAE: \"\n",
    "print mean_absolute_error(Compare_res[\"Our Data Patent Number\"].values, Compare_res[\"NBER2006 Patent Number\"].values)\n",
    "\n",
    "from sklearn.metrics import r2_score\n",
    "print \"Prediction R sqaured: \"\n",
    "print r2_score(Compare_res[\"Our Data Patent Number\"].values, Compare_res[\"Predicted Patent Number\"].values)\n",
    "print \"NBER 2006 R sqaured: \"\n",
    "print r2_score(Compare_res[\"Our Data Patent Number\"].values, Compare_res[\"NBER2006 Patent Number\"].values)\n"
   ]
  },
  {
   "cell_type": "code",
   "execution_count": 34,
   "metadata": {
    "scrolled": true
   },
   "outputs": [],
   "source": [
    "## For the plotting\n",
    "\n",
    "add_data = Full_data[Full_data.year<=2001][[\"gvkey\",\"year\",\"number_of_patent_n\",\"number_of_patent_o\"]]\n",
    "add_data.columns = [\"gvkey\",\"year\",\"NBER2006 Patent Number\",\"Our Data Patent Number\"]"
   ]
  },
  {
   "cell_type": "code",
   "execution_count": 35,
   "metadata": {},
   "outputs": [],
   "source": [
    "add_data[\"Predicted Patent Number\"] = add_data[\"NBER2006 Patent Number\"]"
   ]
  },
  {
   "cell_type": "code",
   "execution_count": 36,
   "metadata": {},
   "outputs": [
    {
     "name": "stderr",
     "output_type": "stream",
     "text": [
      "/home/yuansun/.local/lib/python2.7/site-packages/pandas/core/frame.py:6692: FutureWarning: Sorting because non-concatenation axis is not aligned. A future version\n",
      "of pandas will change to not sort by default.\n",
      "\n",
      "To accept the future behavior, pass 'sort=False'.\n",
      "\n",
      "To retain the current behavior and silence the warning, pass 'sort=True'.\n",
      "\n",
      "  sort=sort)\n"
     ]
    }
   ],
   "source": [
    "tPlots = Compare_res.append(add_data)[[\"year\",\"Predicted Patent Number\",\"Our Data Patent Number\",\"NBER2006 Patent Number\"]].groupby(\"year\", as_index=False).sum()"
   ]
  },
  {
   "cell_type": "code",
   "execution_count": 37,
   "metadata": {},
   "outputs": [],
   "source": [
    "tPlots[\"Patent Bias(NBER2006 vs Our Data)\"] = tPlots[\"Our Data Patent Number\"]-tPlots[\"NBER2006 Patent Number\"]\n",
    "tPlots[\"Patent Bias(Predicted Data vs Our Data)\"] = tPlots[\"Our Data Patent Number\"]-tPlots[\"Predicted Patent Number\"]"
   ]
  },
  {
   "cell_type": "code",
   "execution_count": 38,
   "metadata": {},
   "outputs": [
    {
     "data": {
      "image/png": "[encoded data removed]",
      "text/plain": [
       "<Figure size 576x432 with 1 Axes>"
      ]
     },
     "metadata": {
      "needs_background": "light"
     },
     "output_type": "display_data"
    }
   ],
   "source": [
    "tPlots[[\"year\",\"Patent Bias(Predicted Data vs Our Data)\",\"Patent Bias(NBER2006 vs Our Data)\"]].plot(x=\"year\", figsize=[8,6])\n",
    "plt.xlabel(\"Application Year\")\n",
    "plt.ylabel(\"Patent Bias (#)\")\n",
    "plt.title(\"Time Series for Patent Bias between 2002 and 2006\")\n",
    "savefig('Pred_Bias_Compare.png')"
   ]
  },
  {
   "cell_type": "code",
   "execution_count": 39,
   "metadata": {
    "scrolled": true
   },
   "outputs": [],
   "source": [
    "# Bias_Records = pd.read_stata(\"regressions/construct bias/final_patent_citation_data.dta\")"
   ]
  },
  {
   "cell_type": "code",
   "execution_count": 40,
   "metadata": {},
   "outputs": [],
   "source": [
    "# Save updated patent file to updated_patent_data.csv for citations prediction\n",
    "old_outputs = FirmInfo_class_agg_full_save_for_update[FirmInfo_class_agg_full_save_for_update.filed_year<=2001][[\"gvkey\",\"filed_year\",\"cat_code\",\"wku\"]]\n",
    "MLoutputs.columns = [\"gvkey\",\"filed_year\",\"cat_code\",\"wku\"]\n",
    "MLoutputs.loc[MLoutputs.wku<0,\"wku\"] = 0\n",
    "Save_data = old_outputs.append(MLoutputs)\n",
    "Save_data.to_csv(\"updated_patent_data.csv\", index=False)"
   ]
  }
 ],
 "metadata": {
  "kernelspec": {
   "display_name": "Python 2",
   "language": "python",
   "name": "python2"
  },
  "language_info": {
   "codemirror_mode": {
    "name": "ipython",
    "version": 2
   },
   "file_extension": ".py",
   "mimetype": "text/x-python",
   "name": "python",
   "nbconvert_exporter": "python",
   "pygments_lexer": "ipython2",
   "version": "2.7.12"
  }
 },
 "nbformat": 4,
 "nbformat_minor": 1
}
