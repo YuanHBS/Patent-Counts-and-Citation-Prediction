{
 "cells": [
  {
   "cell_type": "code",
   "execution_count": 1,
   "metadata": {},
   "outputs": [],
   "source": [
    "# Import libraries needed in this research\n",
    "import pandas as pd\n",
    "import numpy as np\n",
    "from sklearn.svm import LinearSVR\n",
    "from sklearn.svm import SVR\n",
    "from sklearn.linear_model import LinearRegression\n",
    "\n",
    "import matplotlib\n",
    "import matplotlib.pyplot as plt\n",
    "%matplotlib inline  \n",
    "\n",
    "from sklearn.model_selection import GridSearchCV\n",
    "import matplotlib.pyplot as plt\n",
    "from pylab import figure, axes, pie, title, savefig\n",
    "\n",
    "from scipy.linalg import lstsq"
   ]
  },
  {
   "cell_type": "code",
   "execution_count": 2,
   "metadata": {},
   "outputs": [],
   "source": [
    "np.random.seed(0)"
   ]
  },
  {
   "cell_type": "code",
   "execution_count": 3,
   "metadata": {},
   "outputs": [],
   "source": [
    "# def Cite_Over_Gap(cite, PatDate, gaps):\n",
    "#     temp = pd.merge(cite, PatDate, how=\"left\", on=\"wku\")\n",
    "#     temp = pd.merge(temp, PatDate, how=\"left\", left_on=\"citing\", right_on=\"wku\")\n",
    "#     outputs = temp[(temp.filed_year_y-temp.filed_year_x<=gaps)& \\\n",
    "#                    (temp.filed_year_y-temp.filed_year_x>=0)][[\"wku_x\",\"citing\",\"filed_year_x\"]]\n",
    "#     outputs.columns = [\"wku\",\"citing\",\"filed_year\"]\n",
    "#     outputs=outputs.groupby([\"wku\",\"filed_year\"], as_index=False).count()\n",
    "#     return outputs"
   ]
  },
  {
   "cell_type": "code",
   "execution_count": 4,
   "metadata": {},
   "outputs": [],
   "source": [
    "# cross validations to find the ideal parameter for C and epsilon\n",
    "def svc_param_selection(X, y, nfolds):\n",
    "    Cs = [0.001, 0.01, 0.1, 1, 10]\n",
    "    epsilons = [0.001, 0.01, 0.1, 1]\n",
    "    param_grid = {'C': Cs, 'epsilon' : epsilons}\n",
    "    grid_search = GridSearchCV(LinearSVR(fit_intercept=False), param_grid, cv=nfolds)\n",
    "    grid_search.fit(X, y)\n",
    "    grid_search.best_params_\n",
    "    return grid_search.best_params_"
   ]
  },
  {
   "cell_type": "code",
   "execution_count": 5,
   "metadata": {},
   "outputs": [],
   "source": [
    "# Read NBER(2006) patent data and updated_patent_data generated from Patent prediction code\n",
    "CitationInfo = pd.read_stata(\"nber data/3930271_7155745_citation.dta\")\n",
    "YearInfo     = pd.read_stata(\"nber data/3930271_7155745_date.dta\")\n",
    "###Read Prof.Amit's file to keep the result constant.\n",
    "###This could be replace with Linear SVR output from patent prediction code.\n",
    "# PatInfo = pd.read_csv(\"updated_patent_data.csv\") \n",
    "PatInfo = pd.read_csv(\"updated_patent_data_Amit.csv\") \n"
   ]
  },
  {
   "cell_type": "code",
   "execution_count": 6,
   "metadata": {
    "scrolled": true
   },
   "outputs": [],
   "source": [
    "# Create 8 lag variable for file year/class/patent id/firm id\n",
    "PatInfo = PatInfo.sort_values([\"gvkey\",\"cat_code\",\"filed_year\"])\n",
    "for i in range(1,8):\n",
    "    PatInfo[\"filed_year_\"+str(i)] = PatInfo[\"filed_year\"].shift(i)\n",
    "    PatInfo[\"cat_code_\"+str(i)] = PatInfo[\"cat_code\"].shift(i)\n",
    "    PatInfo[\"wku_\"+str(i)] = PatInfo[\"wku\"].shift(i)\n",
    "    PatInfo[\"gvkey_\"+str(i)] = PatInfo[\"gvkey\"].shift(i)\n",
    "#print PatInfo.head(10)"
   ]
  },
  {
   "cell_type": "code",
   "execution_count": 7,
   "metadata": {},
   "outputs": [],
   "source": [
    "# The and operation applied here is tring to make sure each record/row have no Nah values,\n",
    "# which means to make sure the input feature matrix for the later prediction has no Nahs.\n",
    "PatInfo = PatInfo[(PatInfo.gvkey==PatInfo.gvkey_1)& \\\n",
    "                                                  (PatInfo.gvkey==PatInfo.gvkey_2)& \\\n",
    "                                                  (PatInfo.gvkey==PatInfo.gvkey_3)& \\\n",
    "                                                  (PatInfo.gvkey==PatInfo.gvkey_4)& \\\n",
    "                                                  (PatInfo.gvkey==PatInfo.gvkey_5)& \\\n",
    "                                                  (PatInfo.gvkey==PatInfo.gvkey_6)& \\\n",
    "                                                  (PatInfo.gvkey==PatInfo.gvkey_7)& \\\n",
    "                                                  (PatInfo.cat_code==PatInfo.cat_code_1)& \\\n",
    "                                                  (PatInfo.cat_code==PatInfo.cat_code_2)& \\\n",
    "                                                  (PatInfo.cat_code==PatInfo.cat_code_3)& \\\n",
    "                                                  (PatInfo.cat_code==PatInfo.cat_code_4)& \\\n",
    "                                                  (PatInfo.cat_code==PatInfo.cat_code_5)& \\\n",
    "                                                  (PatInfo.cat_code==PatInfo.cat_code_6)& \\\n",
    "                                                  (PatInfo.cat_code==PatInfo.cat_code_7)& \\\n",
    "                                                  (PatInfo.filed_year==PatInfo.filed_year_1+1)& \\\n",
    "                                                  (PatInfo.filed_year==PatInfo.filed_year_2+2)& \\\n",
    "                                                  (PatInfo.filed_year==PatInfo.filed_year_3+3)& \\\n",
    "                                                  (PatInfo.filed_year==PatInfo.filed_year_4+4)& \\\n",
    "                                                  (PatInfo.filed_year==PatInfo.filed_year_5+5)& \\\n",
    "                                                  (PatInfo.filed_year==PatInfo.filed_year_6+6)& \\\n",
    "                                                  (PatInfo.filed_year==PatInfo.filed_year_7+7)]"
   ]
  },
  {
   "cell_type": "code",
   "execution_count": 8,
   "metadata": {},
   "outputs": [],
   "source": [
    "#print PatInfo.head(10)"
   ]
  },
  {
   "cell_type": "code",
   "execution_count": 9,
   "metadata": {},
   "outputs": [],
   "source": [
    "# we only use the former six year's wku information. Here we select them.\n",
    "PatInfo_final = PatInfo[[\"gvkey\",\"filed_year\",\"cat_code\",\"wku\",\"wku_1\",\"wku_2\",\"wku_3\",\"wku_4\",\"wku_5\",\"wku_6\"]]"
   ]
  },
  {
   "cell_type": "code",
   "execution_count": 10,
   "metadata": {},
   "outputs": [],
   "source": [
    "#print PatInfo_final.head(10)"
   ]
  },
  {
   "cell_type": "code",
   "execution_count": 11,
   "metadata": {},
   "outputs": [],
   "source": [
    "# Here we get PatInfo_final_cites(A)\n",
    "PatInfo_final_cites = PatInfo_final\n",
    "#print PatInfo_final_cites.shape"
   ]
  },
  {
   "cell_type": "code",
   "execution_count": 12,
   "metadata": {},
   "outputs": [],
   "source": [
    "# Here initialize the merge of the citationInfo and YearInfo to get CitationInfo_date_agg (B)\n",
    "CitationInfo_date = pd.merge(CitationInfo, YearInfo[[\"wku\",\"filed_year\"]], how=\"left\", on=\"wku\") \n",
    "CitationInfo_date = pd.merge(CitationInfo_date , YearInfo[[\"wku\",\"filed_year\"]], how=\"left\", left_on=\"citing\", right_on=\"wku\") "
   ]
  },
  {
   "cell_type": "code",
   "execution_count": 13,
   "metadata": {},
   "outputs": [],
   "source": [
    "CitationInfo_date[\"gap\"] = CitationInfo_date.filed_year_y - CitationInfo_date.filed_year_x"
   ]
  },
  {
   "cell_type": "code",
   "execution_count": 14,
   "metadata": {},
   "outputs": [],
   "source": [
    "CitationInfo_date = CitationInfo_date[CitationInfo_date.gap>=0]"
   ]
  },
  {
   "cell_type": "code",
   "execution_count": 15,
   "metadata": {},
   "outputs": [],
   "source": [
    "CitationInfo_date = CitationInfo_date[[\"wku_x\", \"citing\", \"filed_year_x\", \"gap\"]]"
   ]
  },
  {
   "cell_type": "code",
   "execution_count": 16,
   "metadata": {},
   "outputs": [],
   "source": [
    "CitationInfo_date.columns = [\"wku\",\"citing\",\"filed_year\",\"gap\"]"
   ]
  },
  {
   "cell_type": "code",
   "execution_count": 17,
   "metadata": {},
   "outputs": [],
   "source": [
    "CitationInfo_date_agg = CitationInfo_date.groupby([\"wku\",\"filed_year\",\"gap\"], as_index=False).count()"
   ]
  },
  {
   "cell_type": "code",
   "execution_count": 18,
   "metadata": {},
   "outputs": [],
   "source": [
    "# Delete some stored Panda frames to release memories.\n",
    "lst = [CitationInfo, YearInfo, CitationInfo_date]\n",
    "del lst\n",
    "#print CitationInfo_date_agg.head(30)\n",
    "#CitationInfo_date_agg.info()"
   ]
  },
  {
   "cell_type": "code",
   "execution_count": 19,
   "metadata": {},
   "outputs": [],
   "source": [
    "## We read FrimInfo and classinfo, then merge citatioInfo_data_agg (B) into it.\n",
    "FirmInfo     = pd.read_stata(\"nber data/NBER_US_public_firm_assignee.dta\")\n",
    "ClassInfo    = pd.read_stata(\"nber data/3930271_8341762_class.dta\")"
   ]
  },
  {
   "cell_type": "code",
   "execution_count": 20,
   "metadata": {},
   "outputs": [],
   "source": [
    "FirmInfo_class = pd.merge(FirmInfo, ClassInfo[[\"wku\",\"cat_code\"]], how=\"left\", on=\"wku\").dropna()"
   ]
  },
  {
   "cell_type": "code",
   "execution_count": 21,
   "metadata": {},
   "outputs": [],
   "source": [
    "FirmInfo_class_cite = pd.merge(FirmInfo_class, CitationInfo_date_agg[[\"wku\",\"gap\",\"citing\"]], how=\"left\", on=\"wku\").fillna(0)"
   ]
  },
  {
   "cell_type": "code",
   "execution_count": 22,
   "metadata": {
    "scrolled": true
   },
   "outputs": [],
   "source": [
    "FirmInfo_class_cite_agg = FirmInfo_class_cite[(FirmInfo_class_cite.filed_year>=1976)][[\"gvkey\",\"filed_year\",\"cat_code\",\"gap\",\"citing\"]].groupby([\"gvkey\",\"filed_year\",\"cat_code\",\"gap\"], as_index=False).sum()"
   ]
  },
  {
   "cell_type": "code",
   "execution_count": 23,
   "metadata": {
    "scrolled": true
   },
   "outputs": [],
   "source": [
    "# Set up the prediction horizon for citation\n",
    "FirmInfo_class_cite_agg_h = FirmInfo_class_cite_agg[FirmInfo_class_cite_agg.gap<=10][[\"gvkey\",\"filed_year\",\"cat_code\",\"citing\"]].groupby([\"gvkey\",\"filed_year\",\"cat_code\"], as_index=False).sum()"
   ]
  },
  {
   "cell_type": "code",
   "execution_count": 24,
   "metadata": {},
   "outputs": [],
   "source": [
    "lst2 = [FirmInfo,ClassInfo, FirmInfo_class, FirmInfo_class_cite, FirmInfo_class_cite_agg]\n",
    "del lst2"
   ]
  },
  {
   "cell_type": "code",
   "execution_count": 25,
   "metadata": {},
   "outputs": [],
   "source": [
    "# Now we did the final merge, merge the FirmInfo_class_cite_agg_h with PatInfo_final_cites(A)\n",
    "FirmInfo_class_cite_pat_agg = pd.merge(PatInfo_final_cites, FirmInfo_class_cite_agg_h, how=\"left\", on=[\"gvkey\",\"filed_year\",\"cat_code\"]).fillna(0)"
   ]
  },
  {
   "cell_type": "code",
   "execution_count": 26,
   "metadata": {},
   "outputs": [],
   "source": [
    "# create a six column feature matrix in cat_code. This step is used to transform the cat_code.\n",
    "DummyCat  = pd.get_dummies(FirmInfo_class_cite_pat_agg.cat_code)"
   ]
  },
  {
   "cell_type": "code",
   "execution_count": 27,
   "metadata": {},
   "outputs": [],
   "source": [
    "ML_input = pd.concat([FirmInfo_class_cite_pat_agg, DummyCat], axis=1)"
   ]
  },
  {
   "cell_type": "code",
   "execution_count": 28,
   "metadata": {},
   "outputs": [],
   "source": [
    "#ML_input.columns\n"
   ]
  },
  {
   "cell_type": "code",
   "execution_count": 29,
   "metadata": {
    "scrolled": true
   },
   "outputs": [],
   "source": [
    "# ML_input.columns= [     u'gvkey', u'filed_year',   u'cat_code',        u'wku',\n",
    "#             u'wku_1',      u'wku_2',      u'wku_3',      u'wku_4',\n",
    "#             u'wku_5',        u'wku_6',     u'citing',     u'logciting',           \"cat_code1\",\n",
    "#                  \"cat_code2\",           \"cat_code3\",           \"cat_code4\",           \"cat_code5\",\n",
    "#                  \"cat_code6\"]\n",
    "ML_input.columns= [     u'gvkey', u'filed_year',   u'cat_code',        u'wku',\n",
    "            u'wku_1',      u'wku_2',      u'wku_3',      u'wku_4',\n",
    "            u'wku_5',        u'wku_6',     u'citing',           \"cat_code1\",\n",
    "                 \"cat_code2\",           \"cat_code3\",           \"cat_code4\",           \"cat_code5\",\n",
    "                 \"cat_code6\"]"
   ]
  },
  {
   "cell_type": "code",
   "execution_count": 30,
   "metadata": {},
   "outputs": [],
   "source": [
    "#print ML_input.head(20)"
   ]
  },
  {
   "cell_type": "code",
   "execution_count": 31,
   "metadata": {},
   "outputs": [],
   "source": [
    "# Here we include additional features calculated by another source.\n",
    "\n",
    "#print ML_input.shape\n",
    "AddionalFeatures = pd.read_csv(\"regressions/firm characters/TEMP1.csv\")\n",
    "AddionalFeatures.rename(columns={'year':'filed_year'}, inplace=True)\n",
    "#print AddionalFeatures.head(10)\n",
    "ML_input_withAdditional = pd.merge(ML_input, AddionalFeatures, how=\"left\", on=[\"gvkey\",\"filed_year\"]).fillna(0)\n",
    "#print ML_input_withAdditional.shape\n",
    "#print ML_input_withAdditional.head(10)\n",
    "#ML_input_withAdditional.to_csv('temp.csv',index=False)\n",
    "\n",
    "ML_input=ML_input_withAdditional"
   ]
  },
  {
   "cell_type": "code",
   "execution_count": 32,
   "metadata": {
    "scrolled": true
   },
   "outputs": [],
   "source": [
    "# Set up the year since when to apply the prediction\n",
    "syear = 1992\n",
    "# ML_input_train = ML_input[(ML_input.filed_year<=syear)&(ML_input.filed_year>=1980)]\n",
    "ML_input_train = ML_input[(ML_input.filed_year<=syear)]\n",
    "ML_input_pred = ML_input[(ML_input.filed_year>syear)&(ML_input.filed_year<=2002)]"
   ]
  },
  {
   "cell_type": "code",
   "execution_count": 33,
   "metadata": {},
   "outputs": [],
   "source": [
    "### No additional features\n",
    "\n",
    "# ML_input_trainX = ML_input_train[[\"wku\",\"wku_1\",\"wku_2\",\"wku_3\",\"wku_4\",\"wku_5\",\"wku_6\",\"cat_code1\",\"cat_code2\",\"cat_code3\",\"cat_code4\",\"cat_code5\",\"cat_code6\"]].values\n",
    "# ML_input_trainY = ML_input_train[[\"citing\"]].values\n",
    "\n",
    "# ML_input_predX = ML_input_pred[[\"wku\",\"wku_1\",\"wku_2\",\"wku_3\",\"wku_4\",\"wku_5\",\"wku_6\",\"cat_code1\",\"cat_code2\",\"cat_code3\",\"cat_code4\",\"cat_code5\",\"cat_code6\"]].values"
   ]
  },
  {
   "cell_type": "code",
   "execution_count": 34,
   "metadata": {},
   "outputs": [
    {
     "name": "stderr",
     "output_type": "stream",
     "text": [
      "/home/yuansun/.local/lib/python2.7/site-packages/sklearn/utils/validation.py:761: DataConversionWarning: A column-vector y was passed when a 1d array was expected. Please change the shape of y to (n_samples, ), for example using ravel().\n",
      "  y = column_or_1d(y, warn=True)\n"
     ]
    },
    {
     "name": "stdout",
     "output_type": "stream",
     "text": [
      "['wku', 'wku_1', 'wku_2', 'wku_3', 'wku_4', 'wku_5', 'wku_6', 'w_cash2asset', 'w_LOG_SIZE', 'w_spread']\n"
     ]
    }
   ],
   "source": [
    "ML_input_trainX = ML_input_train[[\"wku\",\"wku_1\",\"wku_2\",\"wku_3\",\"wku_4\",\"wku_5\",\"wku_6\",\"cat_code1\",\"cat_code2\",\"cat_code3\",\"cat_code4\",\"cat_code5\",\"cat_code6\",\"w_cash2asset\",\"w_rd2sale\",\"w_M2B\",\"w_LOG_SIZE\",\"w_roa\",\"w_lev\",\"w_spread\",\"log_state_patents\",\"log_class_patents\"\n",
    "]].values\n",
    "ML_input_trainY = ML_input_train[[\"citing\"]].values\n",
    "\n",
    "ML_input_predX = ML_input_pred[[\"wku\",\"wku_1\",\"wku_2\",\"wku_3\",\"wku_4\",\"wku_5\",\"wku_6\",\"cat_code1\",\"cat_code2\",\"cat_code3\",\"cat_code4\",\"cat_code5\",\"cat_code6\",\"w_cash2asset\",\"w_rd2sale\",\"w_M2B\",\"w_LOG_SIZE\",\"w_roa\",\"w_lev\",\"w_spread\",\"log_state_patents\",\"log_class_patents\"\n",
    "]].values\n",
    "\n",
    "#print ML_input_trainX.shape\n",
    "from sklearn.feature_selection import SelectKBest\n",
    "from sklearn.feature_selection import f_classif\n",
    "#SelectModel = SelectKBest(f_classif, k='all')\n",
    "SelectModel = SelectKBest(f_classif, k=10)\n",
    "ML_input_trainX = SelectModel.fit_transform(ML_input_trainX, ML_input_trainY)\n",
    "ML_input_predX = SelectModel.transform(ML_input_predX)\n",
    "#print ML_input_trainX.head(20)\n",
    "\n",
    "##Get Selected Features\n",
    "feature_names = [\"wku\",\"wku_1\",\"wku_2\",\"wku_3\",\"wku_4\",\"wku_5\",\"wku_6\",\"cat_code1\",\"cat_code2\",\"cat_code3\",\"cat_code4\",\"cat_code5\",\"cat_code6\",\"w_cash2asset\",\"w_rd2sale\",\"w_M2B\",\"w_LOG_SIZE\",\"w_roa\",\"w_lev\",\"w_spread\",\"log_state_patents\",\"log_class_patents\"]\n",
    "mask = SelectModel.get_support() #list of booleans\n",
    "new_features = [] # The list of your K best features\n",
    "\n",
    "for bool, feature in zip(mask, feature_names):\n",
    "    if bool:\n",
    "        new_features.append(feature)\n",
    "print new_features"
   ]
  },
  {
   "cell_type": "code",
   "execution_count": 35,
   "metadata": {},
   "outputs": [],
   "source": [
    "#ML_input_train.filed_year.min()"
   ]
  },
  {
   "cell_type": "code",
   "execution_count": 36,
   "metadata": {},
   "outputs": [],
   "source": [
    "#ML_input_train.shape"
   ]
  },
  {
   "cell_type": "code",
   "execution_count": 37,
   "metadata": {},
   "outputs": [],
   "source": [
    "X = ML_input_trainX\n",
    "\n",
    "Y = ML_input_trainY\n",
    "\n",
    "#print ML_input_trainX\n",
    "#print ML_input_trainY"
   ]
  },
  {
   "cell_type": "code",
   "execution_count": 38,
   "metadata": {},
   "outputs": [
    {
     "name": "stderr",
     "output_type": "stream",
     "text": [
      "/home/yuansun/.local/lib/python2.7/site-packages/sklearn/svm/base.py:931: ConvergenceWarning: Liblinear failed to converge, increase the number of iterations.\n",
      "  \"the number of iterations.\", ConvergenceWarning)\n"
     ]
    },
    {
     "data": {
      "text/plain": [
       "LinearSVR(C=200, dual=True, epsilon=0.01, fit_intercept=True,\n",
       "     intercept_scaling=1.0, loss='squared_epsilon_insensitive',\n",
       "     max_iter=1000, random_state=None, tol=0.0001, verbose=0)"
      ]
     },
     "execution_count": 38,
     "metadata": {},
     "output_type": "execute_result"
    }
   ],
   "source": [
    "\n",
    "\n",
    "\n",
    "### Linear SVM Model\n",
    "clf = LinearSVR(C = 200, epsilon = 0.01, loss=\"squared_epsilon_insensitive\")\n",
    "clf.fit(X, Y)\n",
    "\n",
    "# ### Lasso Model\n",
    "# from sklearn import linear_model\n",
    "# clf = linear_model.Lasso(alpha=0.01)\n",
    "# clf.fit(X, Y)\n",
    "\n",
    "### Ridge Model\n",
    "# from sklearn import linear_model\n",
    "# clf = linear_model.Ridge(alpha=1.0)\n",
    "# clf.fit(X, Y)\n",
    "\n",
    "\n",
    "# Neural Network Model\n",
    "# from sklearn.neural_network import MLPRegressor\n",
    "# clf = MLPRegressor(\n",
    "#     hidden_layer_sizes=(15,),  activation='relu', solver='lbfgs', alpha=0.001, batch_size='auto',\n",
    "#     learning_rate='constant', learning_rate_init=0.01, power_t=0.5, max_iter=1000, shuffle=True,\n",
    "#     random_state=9, tol=0.0001, verbose=False, warm_start=False, momentum=0.9, nesterovs_momentum=True,\n",
    "#     early_stopping=False, validation_fraction=0.1, beta_1=0.9, beta_2=0.999, epsilon=1e-08).fit(X, Y)\n",
    "\n",
    "###Decision Tree Model\n",
    "# from sklearn import tree\n",
    "# clf = tree.DecisionTreeRegressor().fit(X, Y)\n",
    "\n",
    "# ##Logistic Regression Model (slow)\n",
    "# from sklearn.linear_model import LogisticRegression\n",
    "# clf = LogisticRegression(random_state=0, solver='newton-cg',\n",
    "#                           multi_class='multinomial').fit(X, Y)\n",
    "\n",
    "##Random Forest Classifier Model\n",
    "# from sklearn.ensemble import RandomForestRegressor\n",
    "# clf = RandomForestRegressor(n_estimators = 100,random_state=0).fit(X, Y)\n"
   ]
  },
  {
   "cell_type": "code",
   "execution_count": 39,
   "metadata": {},
   "outputs": [],
   "source": [
    "Y_pred = clf.predict(ML_input_predX)"
   ]
  },
  {
   "cell_type": "code",
   "execution_count": 40,
   "metadata": {},
   "outputs": [
    {
     "name": "stderr",
     "output_type": "stream",
     "text": [
      "/usr/local/lib/python2.7/dist-packages/ipykernel_launcher.py:2: SettingWithCopyWarning: \n",
      "A value is trying to be set on a copy of a slice from a DataFrame.\n",
      "Try using .loc[row_indexer,col_indexer] = value instead\n",
      "\n",
      "See the caveats in the documentation: http://pandas.pydata.org/pandas-docs/stable/indexing.html#indexing-view-versus-copy\n",
      "  \n"
     ]
    }
   ],
   "source": [
    "# ML_input_pred[\"pred\"] = np.exp(Y_pred+1)\n",
    "ML_input_pred[\"pred\"] = Y_pred"
   ]
  },
  {
   "cell_type": "code",
   "execution_count": 41,
   "metadata": {},
   "outputs": [],
   "source": [
    "# Outputs"
   ]
  },
  {
   "cell_type": "code",
   "execution_count": 42,
   "metadata": {},
   "outputs": [],
   "source": [
    "Outputs = ML_input_pred[[\"gvkey\",\"filed_year\",\"cat_code\",\"pred\"]]"
   ]
  },
  {
   "cell_type": "code",
   "execution_count": 43,
   "metadata": {},
   "outputs": [],
   "source": [
    "# Outputs.to_csv(\"cites_pred5.csv\", index=False)"
   ]
  },
  {
   "cell_type": "code",
   "execution_count": 44,
   "metadata": {},
   "outputs": [],
   "source": [
    "Outputs_agg = Outputs[[\"gvkey\",\"filed_year\",\"pred\"]].groupby([\"gvkey\",\"filed_year\"], as_index=False).sum()"
   ]
  },
  {
   "cell_type": "code",
   "execution_count": 45,
   "metadata": {
    "scrolled": true
   },
   "outputs": [],
   "source": [
    "Outputs_agg.loc[Outputs_agg.pred<0, \"pred\"]=0"
   ]
  },
  {
   "cell_type": "code",
   "execution_count": 46,
   "metadata": {},
   "outputs": [],
   "source": [
    "# Now we prepare the comparing dataset (NBER 2006 and our data).\n",
    "FirmN_cites_agg = pd.read_csv(\"temp/FirmN_cites_agg_tenYear.csv\")\n",
    "FirmO_cites_agg = pd.read_csv(\"temp/FirmO_cites_agg_tenYear.csv\")\n",
    "\n",
    "\n",
    "FirmN_cites_agg[\"gvkey\"] = FirmN_cites_agg[\"gvkey\"].astype(int)\n",
    "FirmN_cites_agg[\"filed_year\"] = FirmN_cites_agg[\"filed_year\"].astype(int)\n",
    "FirmO_cites_agg[\"gvkey\"] = FirmO_cites_agg[\"gvkey\"].astype(int)\n",
    "FirmO_cites_agg[\"filed_year\"] = FirmO_cites_agg[\"filed_year\"].astype(int)"
   ]
  },
  {
   "cell_type": "code",
   "execution_count": 47,
   "metadata": {},
   "outputs": [],
   "source": [
    "Comp_final = pd.merge(Outputs_agg, FirmO_cites_agg, how=\"left\", on=[\"gvkey\",\"filed_year\"]).fillna(0)\n",
    "Comp_final = pd.merge(Comp_final, FirmN_cites_agg, how=\"left\", on=[\"gvkey\",\"filed_year\"]).fillna(0)"
   ]
  },
  {
   "cell_type": "code",
   "execution_count": 48,
   "metadata": {},
   "outputs": [],
   "source": [
    "#print Comp_final.head(10)"
   ]
  },
  {
   "cell_type": "code",
   "execution_count": 49,
   "metadata": {
    "scrolled": true
   },
   "outputs": [
    {
     "name": "stdout",
     "output_type": "stream",
     "text": [
      "Prediction correlation: \n",
      "0.9252447433910822\n",
      "NBER 2006 correlation: \n",
      "0.9003195118472921\n",
      "Prediction RMSE: \n",
      "1021.2481520776984\n",
      "NBER 2006 RMSE: \n",
      "1266.4345817864776\n",
      "Prediction MAE: \n",
      "165.21719410781947\n",
      "NBER 2006 MAE: \n",
      "195.9000553097345\n",
      "Prediction R sqaured: \n",
      "0.4062773432436919\n",
      "NBER 2006 R sqaured: \n",
      "-0.4654414642431077\n"
     ]
    }
   ],
   "source": [
    "####Compare them by correlation, RMSE, MAE and R squared.\n",
    "\n",
    "print \"Prediction correlation: \" \n",
    "print Comp_final[\"pred\"].corr(Comp_final[\"citing_x\"],method='pearson')\n",
    "print \"NBER 2006 correlation: \"\n",
    "print Comp_final[\"citing_y\"].corr(Comp_final[\"citing_x\"],method='pearson')\n",
    "\n",
    "\n",
    "from sklearn.metrics import mean_squared_error\n",
    "print \"Prediction RMSE: \"\n",
    "print np.sqrt(mean_squared_error(Comp_final[\"pred\"].values, Comp_final[\"citing_x\"].values))\n",
    "print \"NBER 2006 RMSE: \"\n",
    "print np.sqrt(mean_squared_error(Comp_final[\"citing_y\"].values,Comp_final[\"citing_x\"].values))\n",
    "\n",
    "from sklearn.metrics import mean_absolute_error\n",
    "print \"Prediction MAE: \"\n",
    "print mean_absolute_error(Comp_final[\"pred\"].values, Comp_final[\"citing_x\"].values)\n",
    "print \"NBER 2006 MAE: \"\n",
    "print mean_absolute_error(Comp_final[\"citing_y\"].values, Comp_final[\"citing_x\"].values)\n",
    "\n",
    "from sklearn.metrics import r2_score\n",
    "print \"Prediction R sqaured: \"\n",
    "print r2_score(Comp_final[\"pred\"].values, Comp_final[\"citing_x\"].values)\n",
    "print \"NBER 2006 R sqaured: \"\n",
    "print r2_score(Comp_final[\"citing_y\"].values, Comp_final[\"citing_x\"].values)\n"
   ]
  },
  {
   "cell_type": "code",
   "execution_count": 50,
   "metadata": {},
   "outputs": [],
   "source": [
    "## For the plotting\n",
    "Outputs_agg.columns = [\"gvkey\",\"filed_year\",\"citing\"]\n",
    "Outputs_aggs = Outputs_agg.append(FirmN_cites_agg[FirmN_cites_agg.filed_year<1993])"
   ]
  },
  {
   "cell_type": "code",
   "execution_count": 51,
   "metadata": {},
   "outputs": [],
   "source": [
    "comp_plots = pd.merge(Outputs_aggs, FirmN_cites_agg, how=\"left\", on=[\"gvkey\",\"filed_year\"]).fillna(0)\n",
    "comp_plots = pd.merge(comp_plots, FirmO_cites_agg, how=\"left\", on=[\"gvkey\",\"filed_year\"]).fillna(0)"
   ]
  },
  {
   "cell_type": "code",
   "execution_count": 52,
   "metadata": {},
   "outputs": [],
   "source": [
    "comp_plots_agg = comp_plots[comp_plots.filed_year>=1976][[\"filed_year\",\"citing_x\",\"citing_y\",\"citing\"]].groupby(\"filed_year\", as_index=False).sum()"
   ]
  },
  {
   "cell_type": "code",
   "execution_count": 53,
   "metadata": {},
   "outputs": [],
   "source": [
    "comp_plots_agg[\"bias_pred\"] = comp_plots_agg.citing - comp_plots_agg.citing_x\n",
    "comp_plots_agg[\"bias_NBER\"] = comp_plots_agg.citing - comp_plots_agg.citing_y"
   ]
  },
  {
   "cell_type": "code",
   "execution_count": 54,
   "metadata": {},
   "outputs": [
    {
     "data": {
      "image/png": "[encoded data removed]",
      "text/plain": [
       "<Figure size 576x432 with 1 Axes>"
      ]
     },
     "metadata": {
      "needs_background": "light"
     },
     "output_type": "display_data"
    }
   ],
   "source": [
    "comp_plots_agg[[\"filed_year\",\"bias_pred\",\"bias_NBER\"]].plot(x=\"filed_year\", figsize=[8,6])\n",
    "plt.legend([\"Bias for Predicted Citation within 10 years\", \"Bias for NBER2006 Citation within 10 years\"]);\n",
    "plt.xlabel(\"Our Data Citation Number\")\n",
    "plt.title(\"Bias for Citation within 10 years for Granted Patents after Application\")\n",
    "savefig('ts_Pred_Our_Compare_cites10(V1).png')\n",
    "plt.show()"
   ]
  }
 ],
 "metadata": {
  "kernelspec": {
   "display_name": "Python 2",
   "language": "python",
   "name": "python2"
  },
  "language_info": {
   "codemirror_mode": {
    "name": "ipython",
    "version": 2
   },
   "file_extension": ".py",
   "mimetype": "text/x-python",
   "name": "python",
   "nbconvert_exporter": "python",
   "pygments_lexer": "ipython2",
   "version": "2.7.12"
  }
 },
 "nbformat": 4,
 "nbformat_minor": 1
}
