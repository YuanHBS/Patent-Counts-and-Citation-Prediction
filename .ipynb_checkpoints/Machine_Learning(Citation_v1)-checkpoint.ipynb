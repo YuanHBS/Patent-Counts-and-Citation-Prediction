{
 "cells": [
  {
   "cell_type": "code",
   "execution_count": 1,
   "metadata": {},
   "outputs": [],
   "source": [
    "import pandas as pd\n",
    "import numpy as np\n",
    "from sklearn.svm import LinearSVR\n",
    "from sklearn.svm import SVR\n",
    "from sklearn.linear_model import LinearRegression\n",
    "\n",
    "import matplotlib\n",
    "import matplotlib.pyplot as plt\n",
    "%matplotlib inline  \n",
    "\n",
    "from sklearn.model_selection import GridSearchCV\n",
    "import matplotlib.pyplot as plt\n",
    "from pylab import figure, axes, pie, title, savefig\n",
    "\n",
    "from scipy.linalg import lstsq"
   ]
  },
  {
   "cell_type": "code",
   "execution_count": 2,
   "metadata": {},
   "outputs": [],
   "source": [
    "np.random.seed(0)"
   ]
  },
  {
   "cell_type": "code",
   "execution_count": 3,
   "metadata": {},
   "outputs": [],
   "source": [
    "def Cite_Over_Gap(cite, PatDate, gaps):\n",
    "    temp = pd.merge(cite, PatDate, how=\"left\", on=\"wku\")\n",
    "    temp = pd.merge(temp, PatDate, how=\"left\", left_on=\"citing\", right_on=\"wku\")\n",
    "    outputs = temp[(temp.filed_year_y-temp.filed_year_x<=gaps)& \\\n",
    "                   (temp.filed_year_y-temp.filed_year_x>=0)][[\"wku_x\",\"citing\",\"filed_year_x\"]]\n",
    "    outputs.columns = [\"wku\",\"citing\",\"filed_year\"]\n",
    "    outputs=outputs.groupby([\"wku\",\"filed_year\"], as_index=False).count()\n",
    "    return outputs"
   ]
  },
  {
   "cell_type": "code",
   "execution_count": 4,
   "metadata": {},
   "outputs": [],
   "source": [
    "# cross validations to find the ideal parameter for C and epsilon\n",
    "def svc_param_selection(X, y, nfolds):\n",
    "    Cs = [0.001, 0.01, 0.1, 1, 10]\n",
    "    epsilons = [0.001, 0.01, 0.1, 1]\n",
    "    param_grid = {'C': Cs, 'epsilon' : epsilons}\n",
    "    grid_search = GridSearchCV(LinearSVR(fit_intercept=False), param_grid, cv=nfolds)\n",
    "    grid_search.fit(X, y)\n",
    "    grid_search.best_params_\n",
    "    return grid_search.best_params_"
   ]
  },
  {
   "cell_type": "code",
   "execution_count": 5,
   "metadata": {},
   "outputs": [],
   "source": [
    "FirmInfo     = pd.read_stata(\"nber data/NBER_US_public_firm_assignee.dta\")\n",
    "ClassInfo    = pd.read_stata(\"nber data/3930271_8341762_class.dta\")\n",
    "CitationInfo = pd.read_stata(\"nber data/3930271_7155745_citation.dta\")\n",
    "YearInfo     = pd.read_stata(\"nber data/3930271_7155745_date.dta\")\n",
    "PatInfo = pd.read_csv(\"updated_patent_data.csv\")"
   ]
  },
  {
   "cell_type": "code",
   "execution_count": 6,
   "metadata": {},
   "outputs": [],
   "source": [
    "cites5 = pd.read_csv(\"cites5.csv\")\n",
    "cites5.gvkey = cites5.gvkey.astype(int)\n",
    "cites5.filed_year = cites5.filed_year.astype(int)\n",
    "cites5.cat_code = cites5.cat_code.astype(int)\n"
   ]
  },
  {
   "cell_type": "code",
   "execution_count": 7,
   "metadata": {
    "scrolled": true
   },
   "outputs": [],
   "source": [
    "# Create 8 lag variable for file year/class/patent id/firm id\n",
    "PatInfo = PatInfo.sort_values([\"gvkey\",\"cat_code\",\"filed_year\"])\n",
    "for i in range(1,8):\n",
    "    PatInfo[\"filed_year_\"+str(i)] = PatInfo[\"filed_year\"].shift(i)\n",
    "    PatInfo[\"cat_code_\"+str(i)] = PatInfo[\"cat_code\"].shift(i)\n",
    "    PatInfo[\"wku_\"+str(i)] = PatInfo[\"wku\"].shift(i)\n",
    "    PatInfo[\"gvkey_\"+str(i)] = PatInfo[\"gvkey\"].shift(i)"
   ]
  },
  {
   "cell_type": "code",
   "execution_count": 8,
   "metadata": {},
   "outputs": [],
   "source": [
    "PatInfo = PatInfo[(PatInfo.gvkey==PatInfo.gvkey_1)& \\\n",
    "                                                  (PatInfo.gvkey==PatInfo.gvkey_2)& \\\n",
    "                                                  (PatInfo.gvkey==PatInfo.gvkey_3)& \\\n",
    "                                                  (PatInfo.gvkey==PatInfo.gvkey_4)& \\\n",
    "                                                  (PatInfo.gvkey==PatInfo.gvkey_5)& \\\n",
    "                                                  (PatInfo.gvkey==PatInfo.gvkey_6)& \\\n",
    "                                                  (PatInfo.gvkey==PatInfo.gvkey_7)& \\\n",
    "                                                  (PatInfo.cat_code==PatInfo.cat_code_1)& \\\n",
    "                                                  (PatInfo.cat_code==PatInfo.cat_code_2)& \\\n",
    "                                                  (PatInfo.cat_code==PatInfo.cat_code_3)& \\\n",
    "                                                  (PatInfo.cat_code==PatInfo.cat_code_4)& \\\n",
    "                                                  (PatInfo.cat_code==PatInfo.cat_code_5)& \\\n",
    "                                                  (PatInfo.cat_code==PatInfo.cat_code_6)& \\\n",
    "                                                  (PatInfo.cat_code==PatInfo.cat_code_7)& \\\n",
    "                                                  (PatInfo.filed_year==PatInfo.filed_year_1+1)& \\\n",
    "                                                  (PatInfo.filed_year==PatInfo.filed_year_2+2)& \\\n",
    "                                                  (PatInfo.filed_year==PatInfo.filed_year_3+3)& \\\n",
    "                                                  (PatInfo.filed_year==PatInfo.filed_year_4+4)& \\\n",
    "                                                  (PatInfo.filed_year==PatInfo.filed_year_5+5)& \\\n",
    "                                                  (PatInfo.filed_year==PatInfo.filed_year_6+6)& \\\n",
    "                                                  (PatInfo.filed_year==PatInfo.filed_year_7+7)]"
   ]
  },
  {
   "cell_type": "code",
   "execution_count": 9,
   "metadata": {},
   "outputs": [],
   "source": [
    "PatInfo_final = PatInfo[[\"gvkey\",\"filed_year\",\"cat_code\",\"wku\",\"wku_1\",\"wku_2\",\"wku_3\",\"wku_4\",\"wku_5\",\"wku_6\"]]"
   ]
  },
  {
   "cell_type": "code",
   "execution_count": 10,
   "metadata": {
    "scrolled": true
   },
   "outputs": [],
   "source": [
    "PatInfo_final_cites = pd.merge(PatInfo_final, cites5, how=\"left\", on=[\"gvkey\",\"filed_year\",\"cat_code\"]).fillna(0)\n",
    "\n",
    "PatInfo_final_cites.loc[PatInfo_final_cites.citing<=0, \"citing\"] = 0\n",
    "PatInfo_final_cites.columns = [u'gvkey', u'filed_year', u'cat_code', u'wku', u'wku_1', u'wku_2',\n",
    "       u'wku_3', u'wku_4', u'wku_5', u'wku_6', u'cites5']"
   ]
  },
  {
   "cell_type": "code",
   "execution_count": 11,
   "metadata": {},
   "outputs": [],
   "source": [
    "CitationInfo_date = pd.merge(CitationInfo, YearInfo[[\"wku\",\"filed_year\"]], how=\"left\", on=\"wku\") \n",
    "CitationInfo_date = pd.merge(CitationInfo_date , YearInfo[[\"wku\",\"filed_year\"]], how=\"left\", left_on=\"citing\", right_on=\"wku\") "
   ]
  },
  {
   "cell_type": "code",
   "execution_count": 12,
   "metadata": {},
   "outputs": [],
   "source": [
    "CitationInfo_date[\"gap\"] = CitationInfo_date.filed_year_y - CitationInfo_date.filed_year_x"
   ]
  },
  {
   "cell_type": "code",
   "execution_count": 13,
   "metadata": {},
   "outputs": [],
   "source": [
    "CitationInfo_date = CitationInfo_date[CitationInfo_date.gap>=0]"
   ]
  },
  {
   "cell_type": "code",
   "execution_count": 14,
   "metadata": {},
   "outputs": [],
   "source": [
    "CitationInfo_date = CitationInfo_date[[\"wku_x\", \"citing\", \"filed_year_x\", \"gap\"]]"
   ]
  },
  {
   "cell_type": "code",
   "execution_count": 15,
   "metadata": {},
   "outputs": [],
   "source": [
    "CitationInfo_date.columns = [\"wku\",\"citing\",\"filed_year\",\"gap\"]"
   ]
  },
  {
   "cell_type": "code",
   "execution_count": 16,
   "metadata": {},
   "outputs": [],
   "source": [
    "CitationInfo_date_agg = CitationInfo_date.groupby([\"wku\",\"filed_year\",\"gap\"], as_index=False).count()"
   ]
  },
  {
   "cell_type": "code",
   "execution_count": 17,
   "metadata": {},
   "outputs": [],
   "source": [
    "FirmInfo_class = pd.merge(FirmInfo, ClassInfo[[\"wku\",\"cat_code\"]], how=\"left\", on=\"wku\").dropna()"
   ]
  },
  {
   "cell_type": "code",
   "execution_count": 18,
   "metadata": {},
   "outputs": [],
   "source": [
    "FirmInfo_class_cite = pd.merge(FirmInfo_class, CitationInfo_date_agg[[\"wku\",\"gap\",\"citing\"]], how=\"left\", on=\"wku\").fillna(0)"
   ]
  },
  {
   "cell_type": "code",
   "execution_count": 19,
   "metadata": {
    "scrolled": true
   },
   "outputs": [],
   "source": [
    "FirmInfo_class_cite_agg = FirmInfo_class_cite[(FirmInfo_class_cite.filed_year>=1976)][[\"gvkey\",\"filed_year\",\"cat_code\",\"gap\",\"citing\"]].groupby([\"gvkey\",\"filed_year\",\"cat_code\",\"gap\"], as_index=False).sum()"
   ]
  },
  {
   "cell_type": "code",
   "execution_count": 20,
   "metadata": {
    "scrolled": true
   },
   "outputs": [],
   "source": [
    "# Set up the prediction horizon for citation\n",
    "FirmInfo_class_cite_agg_h = FirmInfo_class_cite_agg[FirmInfo_class_cite_agg.gap<=10][[\"gvkey\",\"filed_year\",\"cat_code\",\"citing\"]].groupby([\"gvkey\",\"filed_year\",\"cat_code\"], as_index=False).sum()"
   ]
  },
  {
   "cell_type": "code",
   "execution_count": 21,
   "metadata": {},
   "outputs": [],
   "source": [
    "FirmInfo_class_cite_pat_agg = pd.merge(PatInfo_final_cites, FirmInfo_class_cite_agg_h, how=\"left\", on=[\"gvkey\",\"filed_year\",\"cat_code\"]).fillna(0)"
   ]
  },
  {
   "cell_type": "code",
   "execution_count": 22,
   "metadata": {},
   "outputs": [],
   "source": [
    "# FirmInfo_class_cite_pat_agg[\"logciting\"] = np.log(1+FirmInfo_class_cite_pat_agg.citing)\n",
    "# FirmInfo_class_cite_pat_agg[\"wku\"] = np.log(1+FirmInfo_class_cite_pat_agg.wku)\n",
    "# FirmInfo_class_cite_pat_agg[\"wku_1\"] = np.log(1+FirmInfo_class_cite_pat_agg.wku_1)\n",
    "# FirmInfo_class_cite_pat_agg[\"wku_2\"] = np.log(1+FirmInfo_class_cite_pat_agg.wku_2)\n",
    "# FirmInfo_class_cite_pat_agg[\"wku_3\"] = np.log(1+FirmInfo_class_cite_pat_agg.wku_3)\n",
    "# FirmInfo_class_cite_pat_agg[\"wku_4\"] = np.log(1+FirmInfo_class_cite_pat_agg.wku_4)\n",
    "# FirmInfo_class_cite_pat_agg[\"wku_5\"] = np.log(1+FirmInfo_class_cite_pat_agg.wku_5)\n",
    "# FirmInfo_class_cite_pat_agg[\"wku_6\"] = np.log(1+FirmInfo_class_cite_pat_agg.wku_6)"
   ]
  },
  {
   "cell_type": "code",
   "execution_count": 23,
   "metadata": {},
   "outputs": [
    {
     "data": {
      "text/plain": [
       "Index([     u'gvkey', u'filed_year',   u'cat_code',        u'wku',\n",
       "            u'wku_1',      u'wku_2',      u'wku_3',      u'wku_4',\n",
       "            u'wku_5',      u'wku_6',     u'cites5',     u'citing'],\n",
       "      dtype='object')"
      ]
     },
     "execution_count": 23,
     "metadata": {},
     "output_type": "execute_result"
    }
   ],
   "source": [
    "FirmInfo_class_cite_pat_agg.columns"
   ]
  },
  {
   "cell_type": "code",
   "execution_count": 24,
   "metadata": {},
   "outputs": [],
   "source": [
    "# DummyYear = pd.get_dummies(FirmInfo_class_cite_agg.filed_year)\n",
    "DummyCat  = pd.get_dummies(FirmInfo_class_cite_pat_agg.cat_code)"
   ]
  },
  {
   "cell_type": "code",
   "execution_count": 25,
   "metadata": {},
   "outputs": [],
   "source": [
    "ML_input = pd.concat([FirmInfo_class_cite_pat_agg, DummyCat], axis=1)"
   ]
  },
  {
   "cell_type": "code",
   "execution_count": 26,
   "metadata": {},
   "outputs": [
    {
     "data": {
      "text/plain": [
       "Index([     u'gvkey', u'filed_year',   u'cat_code',        u'wku',\n",
       "            u'wku_1',      u'wku_2',      u'wku_3',      u'wku_4',\n",
       "            u'wku_5',      u'wku_6',     u'cites5',     u'citing',\n",
       "                   1,             2,             3,             4,\n",
       "                   5,             6],\n",
       "      dtype='object')"
      ]
     },
     "execution_count": 26,
     "metadata": {},
     "output_type": "execute_result"
    }
   ],
   "source": [
    "ML_input.columns"
   ]
  },
  {
   "cell_type": "code",
   "execution_count": 27,
   "metadata": {
    "scrolled": true
   },
   "outputs": [],
   "source": [
    "# ML_input.columns= [     u'gvkey', u'filed_year',   u'cat_code',        u'wku',\n",
    "#             u'wku_1',      u'wku_2',      u'wku_3',      u'wku_4',\n",
    "#             u'wku_5',        u'wku_6',     u'citing',     u'logciting',           \"cat_code1\",\n",
    "#                  \"cat_code2\",           \"cat_code3\",           \"cat_code4\",           \"cat_code5\",\n",
    "#                  \"cat_code6\"]\n",
    "ML_input.columns= [     u'gvkey', u'filed_year',   u'cat_code',        u'wku',\n",
    "            u'wku_1',      u'wku_2',      u'wku_3',      u'wku_4',\n",
    "            u'wku_5',        u'wku_6',     u'cites5',     u'citing',           \"cat_code1\",\n",
    "                 \"cat_code2\",           \"cat_code3\",           \"cat_code4\",           \"cat_code5\",\n",
    "                 \"cat_code6\"]"
   ]
  },
  {
   "cell_type": "code",
   "execution_count": 28,
   "metadata": {
    "scrolled": true
   },
   "outputs": [],
   "source": [
    "# Set up the year since when to apply the prediction\n",
    "syear = 1992\n",
    "# ML_input_train = ML_input[(ML_input.filed_year<=syear)&(ML_input.filed_year>=1980)]\n",
    "ML_input_train = ML_input[(ML_input.filed_year<=syear)]\n",
    "ML_input_pred = ML_input[(ML_input.filed_year>syear)&(ML_input.filed_year<=2002)]"
   ]
  },
  {
   "cell_type": "code",
   "execution_count": 29,
   "metadata": {
    "scrolled": true
   },
   "outputs": [],
   "source": [
    "ML_input_trainX = ML_input_train[[\"wku\",\"wku_1\",\"wku_2\",\"wku_3\",\"wku_4\",\"wku_5\",\"wku_6\",\"cat_code1\",\"cat_code2\",\"cat_code3\",\"cat_code4\",\"cat_code5\",\"cat_code6\",\"cites5\"]].values\n",
    "ML_input_trainY = ML_input_train[[\"citing\"]].values\n",
    "\n",
    "ML_input_predX = ML_input_pred[[\"wku\",\"wku_1\",\"wku_2\",\"wku_3\",\"wku_4\",\"wku_5\",\"wku_6\",\"cat_code1\",\"cat_code2\",\"cat_code3\",\"cat_code4\",\"cat_code5\",\"cat_code6\",\"cites5\"]].values"
   ]
  },
  {
   "cell_type": "code",
   "execution_count": 30,
   "metadata": {},
   "outputs": [
    {
     "data": {
      "text/plain": [
       "1983"
      ]
     },
     "execution_count": 30,
     "metadata": {},
     "output_type": "execute_result"
    }
   ],
   "source": [
    "ML_input_train.filed_year.min()"
   ]
  },
  {
   "cell_type": "code",
   "execution_count": 31,
   "metadata": {},
   "outputs": [
    {
     "data": {
      "text/plain": [
       "(108480, 18)"
      ]
     },
     "execution_count": 31,
     "metadata": {},
     "output_type": "execute_result"
    }
   ],
   "source": [
    "ML_input_train.shape"
   ]
  },
  {
   "cell_type": "code",
   "execution_count": 32,
   "metadata": {},
   "outputs": [],
   "source": [
    "# Cross-validation to get the optimal set of hyperparameters\n",
    "# svc_param_selection(ML_input_trainX,ML_input_trainY,3)\n",
    "# {'C': 1, 'epsilon': 0.01}"
   ]
  },
  {
   "cell_type": "code",
   "execution_count": 33,
   "metadata": {},
   "outputs": [
    {
     "name": "stderr",
     "output_type": "stream",
     "text": [
      "/Users/jinpuyang/anaconda/lib/python2.7/site-packages/sklearn/utils/validation.py:752: DataConversionWarning: A column-vector y was passed when a 1d array was expected. Please change the shape of y to (n_samples, ), for example using ravel().\n",
      "  y = column_or_1d(y, warn=True)\n",
      "/Users/jinpuyang/anaconda/lib/python2.7/site-packages/sklearn/svm/base.py:922: ConvergenceWarning: Liblinear failed to converge, increase the number of iterations.\n",
      "  \"the number of iterations.\", ConvergenceWarning)\n"
     ]
    },
    {
     "data": {
      "text/plain": [
       "LinearSVR(C=1, dual=True, epsilon=0.01, fit_intercept=True,\n",
       "     intercept_scaling=1.0, loss='epsilon_insensitive', max_iter=1000,\n",
       "     random_state=None, tol=0.0001, verbose=0)"
      ]
     },
     "execution_count": 33,
     "metadata": {},
     "output_type": "execute_result"
    }
   ],
   "source": [
    "# svr_rbf = SVR(kernel='rbf', C=1e3, gamma=0.1, cache_size=2000)\n",
    "# svr_rbf.fit(ML_input_trainX, ML_input_trainY)\n",
    "svr_lin = LinearSVR(C=1, epsilon=0.01)\n",
    "svr_lin.fit(ML_input_trainX, ML_input_trainY)"
   ]
  },
  {
   "cell_type": "code",
   "execution_count": null,
   "metadata": {},
   "outputs": [],
   "source": []
  },
  {
   "cell_type": "code",
   "execution_count": 34,
   "metadata": {},
   "outputs": [],
   "source": [
    "Y_pred = svr_lin.predict(ML_input_predX)"
   ]
  },
  {
   "cell_type": "code",
   "execution_count": 35,
   "metadata": {},
   "outputs": [
    {
     "name": "stderr",
     "output_type": "stream",
     "text": [
      "/Users/jinpuyang/anaconda/lib/python2.7/site-packages/ipykernel_launcher.py:2: SettingWithCopyWarning: \n",
      "A value is trying to be set on a copy of a slice from a DataFrame.\n",
      "Try using .loc[row_indexer,col_indexer] = value instead\n",
      "\n",
      "See the caveats in the documentation: http://pandas.pydata.org/pandas-docs/stable/indexing.html#indexing-view-versus-copy\n",
      "  \n"
     ]
    }
   ],
   "source": [
    "# ML_input_pred[\"pred\"] = np.exp(Y_pred+1)\n",
    "ML_input_pred[\"pred\"] = Y_pred"
   ]
  },
  {
   "cell_type": "code",
   "execution_count": 36,
   "metadata": {},
   "outputs": [],
   "source": [
    "# Outputs"
   ]
  },
  {
   "cell_type": "code",
   "execution_count": 37,
   "metadata": {},
   "outputs": [],
   "source": [
    "Outputs = ML_input_pred[[\"gvkey\",\"filed_year\",\"cat_code\",\"pred\"]]"
   ]
  },
  {
   "cell_type": "code",
   "execution_count": 38,
   "metadata": {},
   "outputs": [],
   "source": [
    "# Outputs.to_csv(\"cites_pred5.csv\", index=False)"
   ]
  },
  {
   "cell_type": "code",
   "execution_count": 39,
   "metadata": {},
   "outputs": [],
   "source": [
    "Outputs_agg = Outputs[[\"gvkey\",\"filed_year\",\"pred\"]].groupby([\"gvkey\",\"filed_year\"], as_index=False).sum()"
   ]
  },
  {
   "cell_type": "code",
   "execution_count": 40,
   "metadata": {
    "scrolled": true
   },
   "outputs": [],
   "source": [
    "Outputs_agg.loc[Outputs_agg.pred<0, \"pred\"]=0"
   ]
  },
  {
   "cell_type": "code",
   "execution_count": 41,
   "metadata": {
    "scrolled": true
   },
   "outputs": [],
   "source": [
    "CitationN = pd.read_stata(\"nber data/3930271_7155745_citation.dta\")\n",
    "CitationO = pd.read_stata(\"our data/3930271_8341762_citations.dta\")\n",
    "\n",
    "FirmN     = pd.read_stata(\"nber data/NBER_US_public_firm_assignee.dta\")\n",
    "FirmO     = pd.read_stata(\"our data/Ourdata_US_public_firm_assignee.dta\")\n",
    "\n",
    "DateN      = pd.read_stata(\"nber data/3930271_7155745_date.dta\")\n",
    "DateO      = pd.read_stata(\"our data/3930271_8341762_date.dta\")"
   ]
  },
  {
   "cell_type": "code",
   "execution_count": 42,
   "metadata": {},
   "outputs": [],
   "source": [
    "CitationN5 = Cite_Over_Gap(CitationN, DateN,10)\n",
    "CitationO5 = Cite_Over_Gap(CitationO, DateO,10)"
   ]
  },
  {
   "cell_type": "code",
   "execution_count": 43,
   "metadata": {},
   "outputs": [],
   "source": [
    "FirmN_cites = pd.merge(FirmN, CitationN5[[\"wku\",\"citing\"]], how=\"left\", on=[\"wku\"])\n",
    "FirmO_cites = pd.merge(FirmO, CitationO5[[\"wku\",\"citing\"]], how=\"left\", on=[\"wku\"])"
   ]
  },
  {
   "cell_type": "code",
   "execution_count": 44,
   "metadata": {},
   "outputs": [],
   "source": [
    "FirmN_cites_agg = FirmN_cites[[\"gvkey\",\"filed_year\",\"citing\"]].groupby([\"gvkey\",\"filed_year\"], as_index=False).sum()\n",
    "FirmO_cites_agg = FirmO_cites[[\"gvkey\",\"filed_year\",\"citing\"]].groupby([\"gvkey\",\"filed_year\"], as_index=False).sum()"
   ]
  },
  {
   "cell_type": "code",
   "execution_count": 45,
   "metadata": {},
   "outputs": [],
   "source": [
    "Comp_final = pd.merge(Outputs_agg, FirmO_cites_agg, how=\"left\", on=[\"gvkey\",\"filed_year\"]).fillna(0)\n",
    "Comp_final = pd.merge(Comp_final, FirmN_cites_agg, how=\"left\", on=[\"gvkey\",\"filed_year\"]).fillna(0)"
   ]
  },
  {
   "cell_type": "code",
   "execution_count": 46,
   "metadata": {},
   "outputs": [
    {
     "data": {
      "text/plain": [
       "0.9466168298451835"
      ]
     },
     "execution_count": 46,
     "metadata": {},
     "output_type": "execute_result"
    }
   ],
   "source": [
    "cor1 = np.corrcoef(Comp_final.pred, Comp_final.citing_x)[0,1]\n",
    "cor1\n",
    "#10 0.9466168298451835"
   ]
  },
  {
   "cell_type": "code",
   "execution_count": 47,
   "metadata": {},
   "outputs": [
    {
     "data": {
      "text/plain": [
       "0.9003195118471539"
      ]
     },
     "execution_count": 47,
     "metadata": {},
     "output_type": "execute_result"
    }
   ],
   "source": [
    "cor2 = np.corrcoef(Comp_final.citing_y, Comp_final.citing_x)[0,1]\n",
    "cor2\n",
    "#10 0.9003195118471539"
   ]
  },
  {
   "cell_type": "code",
   "execution_count": 57,
   "metadata": {},
   "outputs": [
    {
     "data": {
      "text/plain": [
       "0.05142320852631865"
      ]
     },
     "execution_count": 57,
     "metadata": {},
     "output_type": "execute_result"
    }
   ],
   "source": [
    "(0.9466168298451835-0.9003195118471539)/0.9003195118471539"
   ]
  },
  {
   "cell_type": "code",
   "execution_count": 48,
   "metadata": {},
   "outputs": [
    {
     "data": {
      "text/plain": [
       "0.05142320852631865"
      ]
     },
     "execution_count": 48,
     "metadata": {},
     "output_type": "execute_result"
    }
   ],
   "source": [
    "(cor1-cor2)/cor2\n",
    "#10 0.05142320852631865"
   ]
  },
  {
   "cell_type": "code",
   "execution_count": 49,
   "metadata": {},
   "outputs": [
    {
     "data": {
      "image/png": "[encoded data removed]",
      "text/plain": [
       "<Figure size 576x432 with 1 Axes>"
      ]
     },
     "metadata": {
      "needs_background": "light"
     },
     "output_type": "display_data"
    }
   ],
   "source": [
    "x = Comp_final[\"citing_x\"].values\n",
    "y = Comp_final[\"pred\"].values\n",
    "z = Comp_final[\"citing_y\"].values\n",
    "fig = plt.figure(figsize=(8,6))\n",
    "ax1 = fig.add_subplot(111)\n",
    "\n",
    "ax1.scatter(x, y, s=10, c='b', marker=\"s\", label='Predicted Citation Number: y = 0.817x-16.55')\n",
    "ax1.scatter(x, z, s=10, c='r', marker=\"o\", label='NBER2006 Citation Number: y = 0.447x-9.35')\n",
    "n = np.linspace(*ax1.get_xlim())\n",
    "ax1.plot([i for i in n if i>0], [i for i in n if i>0], c='black')\n",
    "\n",
    "plt.text(90000, 90000, '45 degree',\n",
    "         rotation=40,\n",
    "         horizontalalignment='center')\n",
    "\n",
    "plt.plot(np.unique(x), np.poly1d(np.polyfit(x, y, 1))(np.unique(x)))\n",
    "plt.plot(np.unique(x), np.poly1d(np.polyfit(x, z, 1))(np.unique(x)))\n",
    "plt.legend(loc='upper left');\n",
    "plt.xlabel(\"Our Data Citation Number\")\n",
    "plt.title(\"Scatter plot for Citation Numbers(in 10 yrs) between 1993 and 2002\")\n",
    "# savefig('Pred_Our_Compare_cites10(V1).png')\n",
    "plt.show()"
   ]
  },
  {
   "cell_type": "code",
   "execution_count": 50,
   "metadata": {},
   "outputs": [
    {
     "data": {
      "text/plain": [
       "array([  0.81674003, -16.54537515])"
      ]
     },
     "execution_count": 50,
     "metadata": {},
     "output_type": "execute_result"
    }
   ],
   "source": [
    "np.polyfit(x, y, 1)"
   ]
  },
  {
   "cell_type": "code",
   "execution_count": 51,
   "metadata": {},
   "outputs": [
    {
     "data": {
      "text/plain": [
       "array([ 0.44696403, -9.35171503])"
      ]
     },
     "execution_count": 51,
     "metadata": {},
     "output_type": "execute_result"
    }
   ],
   "source": [
    "np.polyfit(x, z, 1)"
   ]
  },
  {
   "cell_type": "code",
   "execution_count": null,
   "metadata": {},
   "outputs": [],
   "source": []
  },
  {
   "cell_type": "code",
   "execution_count": 52,
   "metadata": {},
   "outputs": [],
   "source": [
    "Outputs_agg.columns = [\"gvkey\",\"filed_year\",\"citing\"]\n",
    "Outputs_aggs = Outputs_agg.append(FirmN_cites_agg[FirmN_cites_agg.filed_year<1993])"
   ]
  },
  {
   "cell_type": "code",
   "execution_count": 53,
   "metadata": {},
   "outputs": [],
   "source": [
    "comp_plots = pd.merge(Outputs_aggs, FirmN_cites_agg, how=\"left\", on=[\"gvkey\",\"filed_year\"]).fillna(0)\n",
    "comp_plots = pd.merge(comp_plots, FirmO_cites_agg, how=\"left\", on=[\"gvkey\",\"filed_year\"]).fillna(0)"
   ]
  },
  {
   "cell_type": "code",
   "execution_count": 54,
   "metadata": {},
   "outputs": [],
   "source": [
    "comp_plots_agg = comp_plots[comp_plots.filed_year>=1976][[\"filed_year\",\"citing_x\",\"citing_y\",\"citing\"]].groupby(\"filed_year\", as_index=False).sum()"
   ]
  },
  {
   "cell_type": "code",
   "execution_count": 55,
   "metadata": {},
   "outputs": [],
   "source": [
    "comp_plots_agg[\"bias_pred\"] = comp_plots_agg.citing - comp_plots_agg.citing_x\n",
    "comp_plots_agg[\"bias_NBER\"] = comp_plots_agg.citing - comp_plots_agg.citing_y"
   ]
  },
  {
   "cell_type": "code",
   "execution_count": 56,
   "metadata": {},
   "outputs": [
    {
     "data": {
      "image/png": "[encoded data removed]",
      "text/plain": [
       "<Figure size 576x432 with 1 Axes>"
      ]
     },
     "metadata": {
      "needs_background": "light"
     },
     "output_type": "display_data"
    }
   ],
   "source": [
    "comp_plots_agg[[\"filed_year\",\"bias_pred\",\"bias_NBER\"]].plot(x=\"filed_year\", figsize=[8,6])\n",
    "plt.legend([\"Bias for Predicted Citation within 10 years\", \"Bias for NBER2006 Citation within 10 years\"]);\n",
    "plt.xlabel(\"Our Data Citation Number\")\n",
    "plt.title(\"Bias for Citation within 10 years for Granted Patents after Application\")\n",
    "# savefig('ts_Pred_Our_Compare_cites10(V1).png')\n",
    "plt.show()"
   ]
  },
  {
   "cell_type": "code",
   "execution_count": null,
   "metadata": {},
   "outputs": [],
   "source": []
  }
 ],
 "metadata": {
  "kernelspec": {
   "display_name": "Python 2",
   "language": "python",
   "name": "python2"
  },
  "language_info": {
   "codemirror_mode": {
    "name": "ipython",
    "version": 2
   },
   "file_extension": ".py",
   "mimetype": "text/x-python",
   "name": "python",
   "nbconvert_exporter": "python",
   "pygments_lexer": "ipython2",
   "version": "2.7.15"
  }
 },
 "nbformat": 4,
 "nbformat_minor": 1
}
