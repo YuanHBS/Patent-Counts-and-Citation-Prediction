{
 "cells": [
  {
   "cell_type": "code",
   "execution_count": 64,
   "metadata": {},
   "outputs": [],
   "source": [
    "import pandas as pd\n",
    "import numpy as np\n",
    "from sklearn.svm import LinearSVR\n",
    "from sklearn.linear_model import LinearRegression\n",
    "\n",
    "import matplotlib\n",
    "import matplotlib.pyplot as plt\n",
    "%matplotlib inline  \n",
    "\n",
    "from sklearn.model_selection import GridSearchCV\n",
    "import matplotlib.pyplot as plt\n",
    "from pylab import figure, axes, pie, title, savefig"
   ]
  },
  {
   "cell_type": "code",
   "execution_count": 2,
   "metadata": {},
   "outputs": [],
   "source": [
    "# cross validations to find the ideal parameter for C and epsilon\n",
    "def svc_param_selection(X, y, nfolds):\n",
    "    Cs = [0.001, 0.01, 0.1, 1, 10]\n",
    "    epsilons = [0.001, 0.01, 0.1, 1]\n",
    "    param_grid = {'C': Cs, 'epsilon' : epsilons}\n",
    "    grid_search = GridSearchCV(LinearSVR(fit_intercept=False), param_grid, cv=nfolds)\n",
    "    grid_search.fit(X, y)\n",
    "    grid_search.best_params_\n",
    "    return grid_search.best_params_"
   ]
  },
  {
   "cell_type": "code",
   "execution_count": 3,
   "metadata": {},
   "outputs": [],
   "source": [
    "# Read NBER(2006) patent data \n",
    "FirmInfo     = pd.read_stata(\"nber data/NBER_US_public_firm_assignee.dta\")\n",
    "ClassInfo    = pd.read_stata(\"nber data/3930271_8341762_class.dta\")\n",
    "YearInfo     = pd.read_stata(\"nber data/3930271_7155745_date.dta\")"
   ]
  },
  {
   "cell_type": "code",
   "execution_count": 4,
   "metadata": {},
   "outputs": [],
   "source": [
    "FirmInfo_class = pd.merge(FirmInfo, ClassInfo[[\"wku\",\"cat_code\"]], how=\"left\", on=\"wku\")"
   ]
  },
  {
   "cell_type": "code",
   "execution_count": 5,
   "metadata": {},
   "outputs": [],
   "source": [
    "FirmInfo_class_agg = FirmInfo_class[[\"gvkey\",\"filed_year\",\"cat_code\",\"wku\"]].groupby([\"gvkey\",\"filed_year\",\"cat_code\"], as_index=False).count()"
   ]
  },
  {
   "cell_type": "code",
   "execution_count": 6,
   "metadata": {},
   "outputs": [],
   "source": [
    "Mapper = [[k, i, j] for k in FirmInfo_class_agg.gvkey.unique() for i in range(1976, 2007) for j in range(1,7)]\n",
    "Mapper = pd.DataFrame(Mapper, columns = [\"gvkey\", \"filed_year\",\"cat_code\"])"
   ]
  },
  {
   "cell_type": "code",
   "execution_count": 7,
   "metadata": {},
   "outputs": [],
   "source": [
    "Mapper.filed_year = Mapper.filed_year.astype(int)\n",
    "Mapper.cat_code = Mapper.cat_code.astype(int)\n",
    "Mapper.gvkey = Mapper.gvkey.astype(int)"
   ]
  },
  {
   "cell_type": "code",
   "execution_count": 8,
   "metadata": {},
   "outputs": [],
   "source": [
    "FirmInfo_class_agg.gvkey = FirmInfo_class_agg.gvkey.astype(int)\n",
    "FirmInfo_class_agg.filed_year = FirmInfo_class_agg.filed_year.astype(int)\n",
    "FirmInfo_class_agg.cat_code = FirmInfo_class_agg.cat_code.astype(int)\n",
    "FirmInfo_class_agg.wku = FirmInfo_class_agg.wku.astype(int)"
   ]
  },
  {
   "cell_type": "code",
   "execution_count": 9,
   "metadata": {
    "scrolled": true
   },
   "outputs": [],
   "source": [
    "FirmInfo_class_agg_full = pd.merge(Mapper, FirmInfo_class_agg, how=\"left\", on=[\"gvkey\",\"filed_year\",\"cat_code\"]).fillna(0)\n"
   ]
  },
  {
   "cell_type": "code",
   "execution_count": 10,
   "metadata": {},
   "outputs": [],
   "source": [
    "FirmInfo_class_agg_full = FirmInfo_class_agg_full.sort_values([\"gvkey\",\"cat_code\",\"filed_year\"])"
   ]
  },
  {
   "cell_type": "code",
   "execution_count": 11,
   "metadata": {},
   "outputs": [],
   "source": [
    "# FirmInfo_class_agg_full[\"wku\"] = np.log(FirmInfo_class_agg_full[\"wku\"]+1)"
   ]
  },
  {
   "cell_type": "code",
   "execution_count": 12,
   "metadata": {},
   "outputs": [],
   "source": [
    "# Create 8 lag variable for file year/class/patent id/firm id\n",
    "for i in range(1,8):\n",
    "    FirmInfo_class_agg_full[\"filed_year_\"+str(i)] = FirmInfo_class_agg_full[\"filed_year\"].shift(i)\n",
    "    FirmInfo_class_agg_full[\"cat_code_\"+str(i)] = FirmInfo_class_agg_full[\"cat_code\"].shift(i)\n",
    "    FirmInfo_class_agg_full[\"wku_\"+str(i)] = FirmInfo_class_agg_full[\"wku\"].shift(i)\n",
    "    FirmInfo_class_agg_full[\"gvkey_\"+str(i)] = FirmInfo_class_agg_full[\"gvkey\"].shift(i)"
   ]
  },
  {
   "cell_type": "code",
   "execution_count": 13,
   "metadata": {},
   "outputs": [],
   "source": [
    "FirmInfo_class_agg_full = FirmInfo_class_agg_full[(FirmInfo_class_agg_full.gvkey==FirmInfo_class_agg_full.gvkey_1)& \\\n",
    "                                                  (FirmInfo_class_agg_full.gvkey==FirmInfo_class_agg_full.gvkey_2)& \\\n",
    "                                                  (FirmInfo_class_agg_full.gvkey==FirmInfo_class_agg_full.gvkey_3)& \\\n",
    "                                                  (FirmInfo_class_agg_full.gvkey==FirmInfo_class_agg_full.gvkey_4)& \\\n",
    "                                                  (FirmInfo_class_agg_full.gvkey==FirmInfo_class_agg_full.gvkey_5)& \\\n",
    "                                                  (FirmInfo_class_agg_full.gvkey==FirmInfo_class_agg_full.gvkey_6)& \\\n",
    "                                                  (FirmInfo_class_agg_full.gvkey==FirmInfo_class_agg_full.gvkey_7)& \\\n",
    "                                                  (FirmInfo_class_agg_full.cat_code==FirmInfo_class_agg_full.cat_code_1)& \\\n",
    "                                                  (FirmInfo_class_agg_full.cat_code==FirmInfo_class_agg_full.cat_code_2)& \\\n",
    "                                                  (FirmInfo_class_agg_full.cat_code==FirmInfo_class_agg_full.cat_code_3)& \\\n",
    "                                                  (FirmInfo_class_agg_full.cat_code==FirmInfo_class_agg_full.cat_code_4)& \\\n",
    "                                                  (FirmInfo_class_agg_full.cat_code==FirmInfo_class_agg_full.cat_code_5)& \\\n",
    "                                                  (FirmInfo_class_agg_full.cat_code==FirmInfo_class_agg_full.cat_code_6)& \\\n",
    "                                                  (FirmInfo_class_agg_full.cat_code==FirmInfo_class_agg_full.cat_code_7)& \\\n",
    "                                                  (FirmInfo_class_agg_full.filed_year==FirmInfo_class_agg_full.filed_year_1+1)& \\\n",
    "                                                  (FirmInfo_class_agg_full.filed_year==FirmInfo_class_agg_full.filed_year_2+2)& \\\n",
    "                                                  (FirmInfo_class_agg_full.filed_year==FirmInfo_class_agg_full.filed_year_3+3)& \\\n",
    "                                                  (FirmInfo_class_agg_full.filed_year==FirmInfo_class_agg_full.filed_year_4+4)& \\\n",
    "                                                  (FirmInfo_class_agg_full.filed_year==FirmInfo_class_agg_full.filed_year_5+5)& \\\n",
    "                                                  (FirmInfo_class_agg_full.filed_year==FirmInfo_class_agg_full.filed_year_6+6)& \\\n",
    "                                                  (FirmInfo_class_agg_full.filed_year==FirmInfo_class_agg_full.filed_year_7+7)]"
   ]
  },
  {
   "cell_type": "code",
   "execution_count": 14,
   "metadata": {},
   "outputs": [],
   "source": [
    "FirmInfo_class_agg_full_clean1=FirmInfo_class_agg_full[[\"gvkey\",\"filed_year\",\"cat_code\",\"wku\",\"wku_1\",\"wku_2\",\"wku_3\",\"wku_4\",\"wku_5\",\"wku_6\"]]"
   ]
  },
  {
   "cell_type": "code",
   "execution_count": 15,
   "metadata": {},
   "outputs": [],
   "source": [
    "# FirmInfo_class_agg_full_clean1.to_csv(\"Patent_ML_Inputs.csv\", index=False)"
   ]
  },
  {
   "cell_type": "code",
   "execution_count": 16,
   "metadata": {},
   "outputs": [],
   "source": [
    "DummyClass = pd.get_dummies(FirmInfo_class_agg_full_clean1.cat_code)"
   ]
  },
  {
   "cell_type": "code",
   "execution_count": 17,
   "metadata": {},
   "outputs": [],
   "source": [
    "FirmInfo_class_agg_full_clean1 = pd.concat([FirmInfo_class_agg_full_clean1, DummyClass], axis=1)"
   ]
  },
  {
   "cell_type": "code",
   "execution_count": 18,
   "metadata": {},
   "outputs": [],
   "source": [
    "FirmInfo_class_agg_full_clean1.columns=[     u'gvkey', u'filed_year',   u'cat_code',        u'wku',\n",
    "                                             u'wku_1',      u'wku_2',      u'wku_3',      u'wku_4',\n",
    "                                             u'wku_5',      u'wku_6',      'cat_code1',  'cat_code2',  'cat_code3',\n",
    "                                             'cat_code4',  'cat_code5',  'cat_code6']"
   ]
  },
  {
   "cell_type": "code",
   "execution_count": 19,
   "metadata": {},
   "outputs": [],
   "source": [
    "syear = 2001\n",
    "FirmInfo_class_agg_full_clean1_test = FirmInfo_class_agg_full_clean1[FirmInfo_class_agg_full_clean1.filed_year<=syear]\n",
    "FirmInfo_class_agg_full_clean1_pred = FirmInfo_class_agg_full_clean1[FirmInfo_class_agg_full_clean1.filed_year>syear]"
   ]
  },
  {
   "cell_type": "code",
   "execution_count": 20,
   "metadata": {},
   "outputs": [],
   "source": [
    "X = FirmInfo_class_agg_full_clean1_test[[u'wku_1',      u'wku_2',      u'wku_3',      u'wku_4',\n",
    "                                         u'wku_5',      u'wku_6',     'cat_code1',  'cat_code2',  'cat_code3',\n",
    "                                         'cat_code4',  'cat_code5',  'cat_code6']].values\n",
    "Y = FirmInfo_class_agg_full_clean1_test[[\"wku\"]].values"
   ]
  },
  {
   "cell_type": "code",
   "execution_count": 112,
   "metadata": {},
   "outputs": [],
   "source": [
    "X_pred = FirmInfo_class_agg_full_clean1_pred[[u'wku_1',      u'wku_2',      u'wku_3',      u'wku_4',\n",
    "                                         u'wku_5',      u'wku_6', 'cat_code1',  'cat_code2',  'cat_code3',\n",
    "                                         'cat_code4',  'cat_code5',  'cat_code6']].values\n",
    "X_ind  = FirmInfo_class_agg_full_clean1_pred[[\"gvkey\",\"filed_year\",\"cat_code\"]].values"
   ]
  },
  {
   "cell_type": "code",
   "execution_count": 22,
   "metadata": {},
   "outputs": [
    {
     "name": "stderr",
     "output_type": "stream",
     "text": [
      "/Users/jinpuyang/anaconda/lib/python2.7/site-packages/sklearn/utils/validation.py:752: DataConversionWarning: A column-vector y was passed when a 1d array was expected. Please change the shape of y to (n_samples, ), for example using ravel().\n",
      "  y = column_or_1d(y, warn=True)\n",
      "/Users/jinpuyang/anaconda/lib/python2.7/site-packages/sklearn/svm/base.py:922: ConvergenceWarning: Liblinear failed to converge, increase the number of iterations.\n",
      "  \"the number of iterations.\", ConvergenceWarning)\n"
     ]
    },
    {
     "data": {
      "text/plain": [
       "{'C': 0.01, 'epsilon': 0.01}"
      ]
     },
     "execution_count": 22,
     "metadata": {},
     "output_type": "execute_result"
    }
   ],
   "source": [
    "svc_param_selection(X,Y,3)"
   ]
  },
  {
   "cell_type": "code",
   "execution_count": null,
   "metadata": {},
   "outputs": [],
   "source": []
  },
  {
   "cell_type": "code",
   "execution_count": 37,
   "metadata": {},
   "outputs": [
    {
     "data": {
      "text/plain": [
       "LinearSVR(C=0.1, dual=True, epsilon=0.1, fit_intercept=True,\n",
       "     intercept_scaling=1.0, loss='epsilon_insensitive', max_iter=1000,\n",
       "     random_state=None, tol=0.0001, verbose=0)"
      ]
     },
     "execution_count": 37,
     "metadata": {},
     "output_type": "execute_result"
    }
   ],
   "source": [
    "svr_lin = LinearSVR(C = 0.1, epsilon=0.1)\n",
    "svr_lin.fit(X, Y)"
   ]
  },
  {
   "cell_type": "code",
   "execution_count": 113,
   "metadata": {},
   "outputs": [],
   "source": [
    "# forward prediction propagation\n",
    "firm = 1004\n",
    "year = syear-1\n",
    "cat_code = 1\n",
    "outputs = []\n",
    "for i in range(len(X_pred)):\n",
    "    rY = svr_lin.predict([X_pred[i]])\n",
    "    if (X_ind[i][0]==firm)&((X_ind[i][1]-year)==1)&(X_ind[i][2]==cat_code)&(X_ind[i][1]<2006):\n",
    "        update_list = list(X_pred[i])\n",
    "        update_list.insert(0, rY[0])\n",
    "        X_pred[i+1][0:6] = update_list[0:6]\n",
    "    firm = X_ind[i][0]\n",
    "    year = X_ind[i][1]\n",
    "    cat_code = X_ind[i][2]\n",
    "    if (X_ind[i][1]==2006)&(i<len(X_pred)-1):\n",
    "        firm = X_ind[i+1][0]\n",
    "        year = syear-1\n",
    "        cat_code = X_ind[i+1][2]\n",
    "    else:\n",
    "        firm = X_ind[i][0]\n",
    "        year = X_ind[i][1]\n",
    "        cat_code = X_ind[i][2]\n",
    "    \n",
    "    outputs+=[[X_ind[i][0], X_ind[i][1], X_ind[i][2], rY[0]]]"
   ]
  },
  {
   "cell_type": "code",
   "execution_count": 114,
   "metadata": {},
   "outputs": [],
   "source": [
    "MLoutputs = pd.DataFrame(outputs, columns = [\"gvkey\",\"year\",\"class\",\"sim\"])\n",
    "# MLoutputs[\"sim\"] = np.exp(MLoutputs.sim)-1\n",
    "MLoutputs_agg = MLoutputs[[\"gvkey\",\"year\",\"sim\"]].groupby([\"gvkey\",\"year\"], as_index=False).sum()"
   ]
  },
  {
   "cell_type": "code",
   "execution_count": 115,
   "metadata": {},
   "outputs": [],
   "source": [
    "MLoutputs_agg.to_csv(\"outputs3.csv\")"
   ]
  },
  {
   "cell_type": "code",
   "execution_count": 116,
   "metadata": {},
   "outputs": [],
   "source": [
    "Comp = pd.read_csv(\"outputs3.csv\")\n",
    "Full_data = pd.read_stata(\"regressions/construct bias/final_patent_citation_data.dta\")"
   ]
  },
  {
   "cell_type": "code",
   "execution_count": 117,
   "metadata": {
    "scrolled": true
   },
   "outputs": [],
   "source": [
    "Compare_res = pd.merge(MLoutputs_agg, Full_data[[\"gvkey\", \"year\", \"number_of_patent_o\", \"number_of_patent_n\"]], \n",
    "                       how=\"left\", on=[\"gvkey\",\"year\"]).fillna(0)"
   ]
  },
  {
   "cell_type": "code",
   "execution_count": 118,
   "metadata": {},
   "outputs": [],
   "source": [
    "Compare_res.loc[Compare_res.sim<0,\"sim\"] = 0"
   ]
  },
  {
   "cell_type": "code",
   "execution_count": 119,
   "metadata": {},
   "outputs": [
    {
     "data": {
      "text/plain": [
       "array([[1.        , 0.89103555, 0.75427878],\n",
       "       [0.89103555, 1.        , 0.72739828],\n",
       "       [0.75427878, 0.72739828, 1.        ]])"
      ]
     },
     "execution_count": 119,
     "metadata": {},
     "output_type": "execute_result"
    }
   ],
   "source": [
    "np.corrcoef(Compare_res[[\"sim\",\"number_of_patent_o\",\"number_of_patent_n\"]].values.T)"
   ]
  },
  {
   "cell_type": "code",
   "execution_count": 120,
   "metadata": {},
   "outputs": [
    {
     "data": {
      "text/plain": [
       "array([[1.        , 0.89103555],\n",
       "       [0.89103555, 1.        ]])"
      ]
     },
     "execution_count": 120,
     "metadata": {},
     "output_type": "execute_result"
    }
   ],
   "source": [
    "np.corrcoef(Compare_res[[\"sim\",\"number_of_patent_o\"]].values.T)"
   ]
  },
  {
   "cell_type": "code",
   "execution_count": 121,
   "metadata": {},
   "outputs": [
    {
     "data": {
      "text/plain": [
       "array([[1.        , 0.72739828],\n",
       "       [0.72739828, 1.        ]])"
      ]
     },
     "execution_count": 121,
     "metadata": {},
     "output_type": "execute_result"
    }
   ],
   "source": [
    "np.corrcoef(Compare_res[[\"number_of_patent_n\",\"number_of_patent_o\"]].values.T)"
   ]
  },
  {
   "cell_type": "code",
   "execution_count": 129,
   "metadata": {},
   "outputs": [
    {
     "data": {
      "text/plain": [
       "0.22496240986437316"
      ]
     },
     "execution_count": 129,
     "metadata": {},
     "output_type": "execute_result"
    }
   ],
   "source": [
    "(0.89103555 - 0.72739828)/0.72739828"
   ]
  },
  {
   "cell_type": "code",
   "execution_count": 122,
   "metadata": {
    "scrolled": true
   },
   "outputs": [],
   "source": [
    "Compare_res.columns=[u'gvkey', u'year', u'Predicted Patent Number', u'Our Data Patent Number',\n",
    "       u'NBER2006 Patent Number']"
   ]
  },
  {
   "cell_type": "code",
   "execution_count": 146,
   "metadata": {},
   "outputs": [
    {
     "data": {
      "image/png": "[encoded data removed]",
      "text/plain": [
       "<Figure size 576x432 with 1 Axes>"
      ]
     },
     "metadata": {
      "needs_background": "light"
     },
     "output_type": "display_data"
    }
   ],
   "source": [
    "x = Compare_res[\"Our Data Patent Number\"].values\n",
    "y = Compare_res[\"Predicted Patent Number\"].values\n",
    "z = Compare_res[\"NBER2006 Patent Number\"].values\n",
    "fig = plt.figure(figsize=(8,6))\n",
    "ax1 = fig.add_subplot(111)\n",
    "\n",
    "ax1.scatter(x, y, s=10, c='b', marker=\"s\", label='Predicted Patent Number: y = 0.733x+4.3')\n",
    "ax1.scatter(x, z, s=10, c='r', marker=\"o\", label='NBER2006 Patent Number: y = 0.321x+0.64')\n",
    "plt.plot(np.unique(x), np.poly1d(np.polyfit(x, y, 1))(np.unique(x)))\n",
    "plt.plot(np.unique(x), np.poly1d(np.polyfit(x, z, 1))(np.unique(x)))\n",
    "plt.legend(loc='upper left');\n",
    "plt.xlabel(\"Our Data Patent Number\")\n",
    "plt.title(\"Scatter plot for Patent Numbers between 2002 and 2006\")\n",
    "savefig('Pred_Our_Compare.png')\n",
    "plt.show()\n"
   ]
  },
  {
   "cell_type": "code",
   "execution_count": 140,
   "metadata": {},
   "outputs": [
    {
     "data": {
      "text/plain": [
       "array([0.73309042, 4.30092668])"
      ]
     },
     "execution_count": 140,
     "metadata": {},
     "output_type": "execute_result"
    }
   ],
   "source": [
    "np.polyfit(x, y, 1)"
   ]
  },
  {
   "cell_type": "code",
   "execution_count": 141,
   "metadata": {},
   "outputs": [
    {
     "data": {
      "text/plain": [
       "array([0.32126786, 0.64827966])"
      ]
     },
     "execution_count": 141,
     "metadata": {},
     "output_type": "execute_result"
    }
   ],
   "source": [
    "np.polyfit(x, z, 1)"
   ]
  },
  {
   "cell_type": "code",
   "execution_count": 124,
   "metadata": {
    "scrolled": true
   },
   "outputs": [],
   "source": [
    "add_data = Full_data[Full_data.year<=2001][[\"gvkey\",\"year\",\"number_of_patent_n\",\"number_of_patent_o\"]]\n",
    "add_data.columns = [\"gvkey\",\"year\",\"NBER2006 Patent Number\",\"Our Data Patent Number\"]"
   ]
  },
  {
   "cell_type": "code",
   "execution_count": 125,
   "metadata": {},
   "outputs": [],
   "source": [
    "add_data[\"Predicted Patent Number\"] = add_data[\"NBER2006 Patent Number\"]"
   ]
  },
  {
   "cell_type": "code",
   "execution_count": 126,
   "metadata": {},
   "outputs": [],
   "source": [
    "tPlots = Compare_res.append(add_data)[[\"year\",\"Predicted Patent Number\",\"Our Data Patent Number\",\"NBER2006 Patent Number\"]].groupby(\"year\", as_index=False).sum()"
   ]
  },
  {
   "cell_type": "code",
   "execution_count": 127,
   "metadata": {},
   "outputs": [],
   "source": [
    "tPlots[\"Patent Bias(NBER2006 vs Our Data)\"] = tPlots[\"Our Data Patent Number\"]-tPlots[\"NBER2006 Patent Number\"]\n",
    "tPlots[\"Patent Bias(Predicted Data vs Our Data)\"] = tPlots[\"Our Data Patent Number\"]-tPlots[\"Predicted Patent Number\"]"
   ]
  },
  {
   "cell_type": "code",
   "execution_count": 130,
   "metadata": {},
   "outputs": [
    {
     "data": {
      "image/png": "[encoded data removed]",
      "text/plain": [
       "<Figure size 576x432 with 1 Axes>"
      ]
     },
     "metadata": {
      "needs_background": "light"
     },
     "output_type": "display_data"
    }
   ],
   "source": [
    "tPlots[[\"year\",\"Patent Bias(NBER2006 vs Our Data)\",\"Patent Bias(Predicted Data vs Our Data)\"]].plot(x=\"year\", figsize=[8,6])\n",
    "plt.xlabel(\"Application Year\")\n",
    "plt.ylabel(\"Patent Bias (#)\")\n",
    "plt.title(\"Time Series for Patent Bias between 2002 and 2006\")\n",
    "savefig('Pred_Bias_Compare.png')"
   ]
  },
  {
   "cell_type": "code",
   "execution_count": 135,
   "metadata": {
    "scrolled": true
   },
   "outputs": [],
   "source": [
    "Bias_Records = pd.read_stata(\"regressions/construct bias/final_patent_citation_data.dta\")"
   ]
  },
  {
   "cell_type": "code",
   "execution_count": null,
   "metadata": {},
   "outputs": [],
   "source": []
  }
 ],
 "metadata": {
  "kernelspec": {
   "display_name": "Python 2",
   "language": "python",
   "name": "python2"
  },
  "language_info": {
   "codemirror_mode": {
    "name": "ipython",
    "version": 2
   },
   "file_extension": ".py",
   "mimetype": "text/x-python",
   "name": "python",
   "nbconvert_exporter": "python",
   "pygments_lexer": "ipython2",
   "version": "2.7.15"
  }
 },
 "nbformat": 4,
 "nbformat_minor": 1
}
